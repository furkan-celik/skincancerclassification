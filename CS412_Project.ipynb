{
  "nbformat": 4,
  "nbformat_minor": 0,
  "metadata": {
    "colab": {
      "name": "CS412 Project.ipynb",
      "provenance": [],
      "collapsed_sections": [
        "J7CujHbwVQX3"
      ],
      "toc_visible": true,
      "include_colab_link": true
    },
    "kernelspec": {
      "name": "python3",
      "display_name": "Python 3"
    },
    "accelerator": "GPU"
  },
  "cells": [
    {
      "cell_type": "markdown",
      "metadata": {
        "id": "view-in-github",
        "colab_type": "text"
      },
      "source": [
        "<a href=\"https://colab.research.google.com/github/furkan-celik/skincancerclassification/blob/master/CS412_Project.ipynb\" target=\"_parent\"><img src=\"https://colab.research.google.com/assets/colab-badge.svg\" alt=\"Open In Colab\"/></a>"
      ]
    },
    {
      "cell_type": "markdown",
      "metadata": {
        "id": "cFo4pCdV1t50",
        "colab_type": "text"
      },
      "source": [
        "### Make sure GPU is on\n",
        "\n",
        "https://medium.com/deep-learning-turkey/google-colab-free-gpu-tutorial-e113627b9f5d"
      ]
    },
    {
      "cell_type": "markdown",
      "metadata": {
        "id": "F7YbBoUR5NVj",
        "colab_type": "text"
      },
      "source": [
        "from google.colab import drive\n",
        "drive.mount('/content/drive')"
      ]
    },
    {
      "cell_type": "code",
      "metadata": {
        "id": "TtRngMsHc-Ko",
        "colab_type": "code",
        "outputId": "8077279d-300e-4d6e-8952-c4060bf44092",
        "colab": {
          "base_uri": "https://localhost:8080/",
          "height": 122
        }
      },
      "source": [
        "from google.colab import drive\n",
        "drive.mount('/content/drive')"
      ],
      "execution_count": 0,
      "outputs": [
        {
          "output_type": "stream",
          "text": [
            "Go to this URL in a browser: https://accounts.google.com/o/oauth2/auth?client_id=947318989803-6bn6qk8qdgf4n4g3pfee6491hc0brc4i.apps.googleusercontent.com&redirect_uri=urn%3aietf%3awg%3aoauth%3a2.0%3aoob&response_type=code&scope=email%20https%3a%2f%2fwww.googleapis.com%2fauth%2fdocs.test%20https%3a%2f%2fwww.googleapis.com%2fauth%2fdrive%20https%3a%2f%2fwww.googleapis.com%2fauth%2fdrive.photos.readonly%20https%3a%2f%2fwww.googleapis.com%2fauth%2fpeopleapi.readonly\n",
            "\n",
            "Enter your authorization code:\n",
            "··········\n",
            "Mounted at /content/drive\n"
          ],
          "name": "stdout"
        }
      ]
    },
    {
      "cell_type": "markdown",
      "metadata": {
        "id": "VYLq3bbYHNy6",
        "colab_type": "text"
      },
      "source": [
        "# Imports"
      ]
    },
    {
      "cell_type": "code",
      "metadata": {
        "id": "fr-4gka21hVl",
        "colab_type": "code",
        "outputId": "e475af42-b3dd-4a58-b351-b8178ab638c7",
        "colab": {
          "base_uri": "https://localhost:8080/",
          "height": 34
        }
      },
      "source": [
        "import tensorflow as tf\n",
        "tf.test.gpu_device_name()"
      ],
      "execution_count": 0,
      "outputs": [
        {
          "output_type": "execute_result",
          "data": {
            "text/plain": [
              "'/device:GPU:0'"
            ]
          },
          "metadata": {
            "tags": []
          },
          "execution_count": 2
        }
      ]
    },
    {
      "cell_type": "code",
      "metadata": {
        "id": "M2D-1er639_i",
        "colab_type": "code",
        "colab": {}
      },
      "source": [
        "import random \n",
        "import pandas as pd\n",
        "import os\n",
        "import shutil\n",
        "import numpy as np\n",
        "import cv2\n",
        "from tensorflow_addons import metrics\n",
        "from sklearn.model_selection import train_test_split"
      ],
      "execution_count": 0,
      "outputs": []
    },
    {
      "cell_type": "markdown",
      "metadata": {
        "id": "J7CujHbwVQX3",
        "colab_type": "text"
      },
      "source": [
        "#To seperate images to folders"
      ]
    },
    {
      "cell_type": "code",
      "metadata": {
        "id": "sWgzFoBCv3z4",
        "colab_type": "code",
        "colab": {}
      },
      "source": [
        "import os, shutil\n",
        "folder = '/content/drive/My Drive/CS412/ImageAugmention/4'\n",
        "for filename in os.listdir(folder):\n",
        "    file_path = os.path.join(folder, filename)\n",
        "    try:\n",
        "        if os.path.isfile(file_path) or os.path.islink(file_path):\n",
        "            os.unlink(file_path)\n",
        "        elif os.path.isdir(file_path):\n",
        "            shutil.rmtree(file_path)\n",
        "    except Exception as e:\n",
        "        print('Failed to delete %s. Reason: %s' % (file_path, e))"
      ],
      "execution_count": 0,
      "outputs": []
    },
    {
      "cell_type": "code",
      "metadata": {
        "id": "Oj4XnzbeC7lJ",
        "colab_type": "code",
        "colab": {}
      },
      "source": [
        "SRC_PATH = \"/content/drive/My Drive/CS412/Data_SkinCancer/\"\n",
        "DST_PATH_TRAIN = '/content/drive/My Drive/CS412/DatasByFolder/'\n",
        "i = 0\n",
        "for index, row in traincsv.iterrows():\n",
        "  i += 1\n",
        "  FILE_PATH = SRC_PATH + row[\"Id\"] + \".jpg\"\n",
        "  FOLDER_PATH_TRAIN = DST_PATH_TRAIN + str(row[\"Category\"]) + \"/\"\n",
        "  if(not os.path.exists(FOLDER_PATH_TRAIN)):\n",
        "    os.mkdir(FOLDER_PATH_TRAIN)\n",
        "  shutil.copy(FILE_PATH, FOLDER_PATH_TRAIN + row[\"Id\"] + \".jpg\")"
      ],
      "execution_count": 0,
      "outputs": []
    },
    {
      "cell_type": "code",
      "metadata": {
        "id": "jFdzpzCwnqlL",
        "colab_type": "code",
        "colab": {}
      },
      "source": [
        "MAIN_PATH = \"/content/drive/My Drive/CS412/Data_SkinCancer/\"\n",
        "os.mkdir(MAIN_PATH + \"TestData/\")\n",
        "for index, row in testcsv.iterrows():\n",
        "  FILE_PATH = MAIN_PATH + row[\"Id\"] + \".jpg\"\n",
        "  FOLDER_PATH = MAIN_PATH + \"TestData/\" + str(row[\"Category\"]) + \"/\"\n",
        "  if(not os.path.exists(FOLDER_PATH)):\n",
        "    os.mkdir(FOLDER_PATH)\n",
        "  shutil.copy(FILE_PATH, FOLDER_PATH + row[\"Id\"] + \".jpg\")"
      ],
      "execution_count": 0,
      "outputs": []
    },
    {
      "cell_type": "code",
      "metadata": {
        "id": "nZxPj4jnuZjD",
        "colab_type": "code",
        "colab": {}
      },
      "source": [
        "DST_PATH_TRAIN = '/content/drive/My Drive/CS412/DatasByFolder/'\n",
        "for index in range(0, len(traincsv)):\n",
        "  if type(traincsv[\"Id\"][index]) == str and traincsv[\"Id\"][index].find(\"Image\") != -1:\n",
        "    FILE_PATH = DST_PATH_TRAIN + str(traincsv[\"Category\"][index]) + \"/\" + traincsv[\"Id\"][index] + \".jpg\"\n",
        "    img = cv2.imread(FILE_PATH)\n",
        "    traincsv[\"Id\"][index] = img\n",
        "    del img\n",
        "    print(index)"
      ],
      "execution_count": 0,
      "outputs": []
    },
    {
      "cell_type": "code",
      "metadata": {
        "id": "uzS9Y2yhar1O",
        "colab_type": "code",
        "outputId": "d1245f82-fd6c-4d4f-c7fa-9651bc278c3d",
        "colab": {
          "base_uri": "https://localhost:8080/",
          "height": 1000
        }
      },
      "source": [
        "SRC_PATH = \"/content/drive/My Drive/CS412/Data_SkinCancer/\"\n",
        "DST_PATH_TRAIN = '/content/drive/My Drive/CS412/DatasByFolder/'\n",
        "train_datagen = ImageDataGenerator(\n",
        "  rotation_range=135,\n",
        "  width_shift_range=0.4,\n",
        "  height_shift_range=0.4,\n",
        "  shear_range=0.2,\n",
        "  horizontal_flip=True,\n",
        "  fill_mode='nearest') # set validation split\n",
        "\n",
        "for index, row in traincsv.groupby(\"Category\").get_group(\"4\").iterrows():\n",
        "  saveDir = '/content/drive/My Drive/CS412/ImageAugmention/4/' + str(row[\"Id\"][:len(row[\"Id\"]) - 4])\n",
        "  if(not os.path.exists(saveDir)):\n",
        "    os.mkdir(saveDir)\n",
        "\n",
        "  train_generator = train_datagen.flow_from_dataframe(\n",
        "          pd.DataFrame({\"Id\": row[\"Id\"], \"Category\": row[\"Category\"]}, index=[\"Id\"]),  # This is the source directory for training images\n",
        "          directory=\"/content/drive/My Drive/CS412/DatasByFolder/4\",\n",
        "          x_col=\"Id\",\n",
        "          y_col=\"Category\",\n",
        "          target_size=(256, 256),  # All images will be resized to 200 x 200\n",
        "          batch_size=batch_size,\n",
        "          # Since we use categorical_crossentropy loss, we need categorical labels\n",
        "          class_mode='categorical',\n",
        "          save_to_dir=saveDir)\n",
        "  for i in range(1):\n",
        "    train_generator.next()\n"
      ],
      "execution_count": 0,
      "outputs": [
        {
          "output_type": "stream",
          "text": [
            "Found 1 validated image filenames belonging to 1 classes.\n",
            "Found 1 validated image filenames belonging to 1 classes.\n",
            "Found 1 validated image filenames belonging to 1 classes.\n",
            "Found 1 validated image filenames belonging to 1 classes.\n",
            "Found 1 validated image filenames belonging to 1 classes.\n",
            "Found 1 validated image filenames belonging to 1 classes.\n",
            "Found 1 validated image filenames belonging to 1 classes.\n",
            "Found 1 validated image filenames belonging to 1 classes.\n",
            "Found 1 validated image filenames belonging to 1 classes.\n",
            "Found 1 validated image filenames belonging to 1 classes.\n",
            "Found 1 validated image filenames belonging to 1 classes.\n",
            "Found 1 validated image filenames belonging to 1 classes.\n",
            "Found 1 validated image filenames belonging to 1 classes.\n",
            "Found 1 validated image filenames belonging to 1 classes.\n",
            "Found 1 validated image filenames belonging to 1 classes.\n",
            "Found 1 validated image filenames belonging to 1 classes.\n",
            "Found 1 validated image filenames belonging to 1 classes.\n",
            "Found 1 validated image filenames belonging to 1 classes.\n",
            "Found 1 validated image filenames belonging to 1 classes.\n",
            "Found 1 validated image filenames belonging to 1 classes.\n",
            "Found 1 validated image filenames belonging to 1 classes.\n",
            "Found 1 validated image filenames belonging to 1 classes.\n",
            "Found 1 validated image filenames belonging to 1 classes.\n",
            "Found 1 validated image filenames belonging to 1 classes.\n",
            "Found 1 validated image filenames belonging to 1 classes.\n",
            "Found 1 validated image filenames belonging to 1 classes.\n",
            "Found 1 validated image filenames belonging to 1 classes.\n",
            "Found 1 validated image filenames belonging to 1 classes.\n",
            "Found 1 validated image filenames belonging to 1 classes.\n",
            "Found 1 validated image filenames belonging to 1 classes.\n",
            "Found 1 validated image filenames belonging to 1 classes.\n",
            "Found 1 validated image filenames belonging to 1 classes.\n",
            "Found 1 validated image filenames belonging to 1 classes.\n",
            "Found 1 validated image filenames belonging to 1 classes.\n",
            "Found 1 validated image filenames belonging to 1 classes.\n",
            "Found 1 validated image filenames belonging to 1 classes.\n",
            "Found 1 validated image filenames belonging to 1 classes.\n",
            "Found 1 validated image filenames belonging to 1 classes.\n",
            "Found 1 validated image filenames belonging to 1 classes.\n",
            "Found 1 validated image filenames belonging to 1 classes.\n",
            "Found 1 validated image filenames belonging to 1 classes.\n",
            "Found 1 validated image filenames belonging to 1 classes.\n",
            "Found 1 validated image filenames belonging to 1 classes.\n",
            "Found 1 validated image filenames belonging to 1 classes.\n",
            "Found 1 validated image filenames belonging to 1 classes.\n",
            "Found 1 validated image filenames belonging to 1 classes.\n",
            "Found 1 validated image filenames belonging to 1 classes.\n",
            "Found 1 validated image filenames belonging to 1 classes.\n",
            "Found 1 validated image filenames belonging to 1 classes.\n",
            "Found 1 validated image filenames belonging to 1 classes.\n",
            "Found 1 validated image filenames belonging to 1 classes.\n",
            "Found 1 validated image filenames belonging to 1 classes.\n",
            "Found 1 validated image filenames belonging to 1 classes.\n",
            "Found 1 validated image filenames belonging to 1 classes.\n",
            "Found 1 validated image filenames belonging to 1 classes.\n",
            "Found 1 validated image filenames belonging to 1 classes.\n",
            "Found 1 validated image filenames belonging to 1 classes.\n",
            "Found 1 validated image filenames belonging to 1 classes.\n",
            "Found 1 validated image filenames belonging to 1 classes.\n",
            "Found 1 validated image filenames belonging to 1 classes.\n",
            "Found 1 validated image filenames belonging to 1 classes.\n",
            "Found 1 validated image filenames belonging to 1 classes.\n",
            "Found 1 validated image filenames belonging to 1 classes.\n",
            "Found 1 validated image filenames belonging to 1 classes.\n",
            "Found 1 validated image filenames belonging to 1 classes.\n",
            "Found 1 validated image filenames belonging to 1 classes.\n",
            "Found 1 validated image filenames belonging to 1 classes.\n",
            "Found 1 validated image filenames belonging to 1 classes.\n",
            "Found 1 validated image filenames belonging to 1 classes.\n",
            "Found 1 validated image filenames belonging to 1 classes.\n",
            "Found 1 validated image filenames belonging to 1 classes.\n",
            "Found 1 validated image filenames belonging to 1 classes.\n",
            "Found 1 validated image filenames belonging to 1 classes.\n",
            "Found 1 validated image filenames belonging to 1 classes.\n",
            "Found 1 validated image filenames belonging to 1 classes.\n",
            "Found 1 validated image filenames belonging to 1 classes.\n",
            "Found 1 validated image filenames belonging to 1 classes.\n",
            "Found 1 validated image filenames belonging to 1 classes.\n",
            "Found 1 validated image filenames belonging to 1 classes.\n",
            "Found 1 validated image filenames belonging to 1 classes.\n",
            "Found 1 validated image filenames belonging to 1 classes.\n",
            "Found 1 validated image filenames belonging to 1 classes.\n",
            "Found 1 validated image filenames belonging to 1 classes.\n",
            "Found 1 validated image filenames belonging to 1 classes.\n",
            "Found 1 validated image filenames belonging to 1 classes.\n",
            "Found 1 validated image filenames belonging to 1 classes.\n",
            "Found 1 validated image filenames belonging to 1 classes.\n",
            "Found 1 validated image filenames belonging to 1 classes.\n",
            "Found 1 validated image filenames belonging to 1 classes.\n",
            "Found 1 validated image filenames belonging to 1 classes.\n",
            "Found 1 validated image filenames belonging to 1 classes.\n",
            "Found 1 validated image filenames belonging to 1 classes.\n",
            "Found 1 validated image filenames belonging to 1 classes.\n",
            "Found 1 validated image filenames belonging to 1 classes.\n",
            "Found 1 validated image filenames belonging to 1 classes.\n",
            "Found 1 validated image filenames belonging to 1 classes.\n",
            "Found 1 validated image filenames belonging to 1 classes.\n",
            "Found 1 validated image filenames belonging to 1 classes.\n",
            "Found 1 validated image filenames belonging to 1 classes.\n",
            "Found 1 validated image filenames belonging to 1 classes.\n",
            "Found 1 validated image filenames belonging to 1 classes.\n",
            "Found 1 validated image filenames belonging to 1 classes.\n",
            "Found 1 validated image filenames belonging to 1 classes.\n",
            "Found 1 validated image filenames belonging to 1 classes.\n",
            "Found 1 validated image filenames belonging to 1 classes.\n",
            "Found 1 validated image filenames belonging to 1 classes.\n",
            "Found 1 validated image filenames belonging to 1 classes.\n",
            "Found 1 validated image filenames belonging to 1 classes.\n",
            "Found 1 validated image filenames belonging to 1 classes.\n",
            "Found 1 validated image filenames belonging to 1 classes.\n",
            "Found 1 validated image filenames belonging to 1 classes.\n",
            "Found 1 validated image filenames belonging to 1 classes.\n",
            "Found 1 validated image filenames belonging to 1 classes.\n",
            "Found 1 validated image filenames belonging to 1 classes.\n",
            "Found 1 validated image filenames belonging to 1 classes.\n",
            "Found 1 validated image filenames belonging to 1 classes.\n",
            "Found 1 validated image filenames belonging to 1 classes.\n",
            "Found 1 validated image filenames belonging to 1 classes.\n",
            "Found 1 validated image filenames belonging to 1 classes.\n",
            "Found 1 validated image filenames belonging to 1 classes.\n",
            "Found 1 validated image filenames belonging to 1 classes.\n",
            "Found 1 validated image filenames belonging to 1 classes.\n",
            "Found 1 validated image filenames belonging to 1 classes.\n",
            "Found 1 validated image filenames belonging to 1 classes.\n",
            "Found 1 validated image filenames belonging to 1 classes.\n",
            "Found 1 validated image filenames belonging to 1 classes.\n",
            "Found 1 validated image filenames belonging to 1 classes.\n",
            "Found 1 validated image filenames belonging to 1 classes.\n",
            "Found 1 validated image filenames belonging to 1 classes.\n",
            "Found 1 validated image filenames belonging to 1 classes.\n",
            "Found 1 validated image filenames belonging to 1 classes.\n",
            "Found 1 validated image filenames belonging to 1 classes.\n",
            "Found 1 validated image filenames belonging to 1 classes.\n",
            "Found 1 validated image filenames belonging to 1 classes.\n",
            "Found 1 validated image filenames belonging to 1 classes.\n",
            "Found 1 validated image filenames belonging to 1 classes.\n",
            "Found 1 validated image filenames belonging to 1 classes.\n",
            "Found 1 validated image filenames belonging to 1 classes.\n",
            "Found 1 validated image filenames belonging to 1 classes.\n",
            "Found 1 validated image filenames belonging to 1 classes.\n",
            "Found 1 validated image filenames belonging to 1 classes.\n",
            "Found 1 validated image filenames belonging to 1 classes.\n",
            "Found 1 validated image filenames belonging to 1 classes.\n",
            "Found 1 validated image filenames belonging to 1 classes.\n",
            "Found 1 validated image filenames belonging to 1 classes.\n",
            "Found 1 validated image filenames belonging to 1 classes.\n",
            "Found 1 validated image filenames belonging to 1 classes.\n",
            "Found 1 validated image filenames belonging to 1 classes.\n",
            "Found 1 validated image filenames belonging to 1 classes.\n",
            "Found 1 validated image filenames belonging to 1 classes.\n",
            "Found 1 validated image filenames belonging to 1 classes.\n",
            "Found 1 validated image filenames belonging to 1 classes.\n",
            "Found 1 validated image filenames belonging to 1 classes.\n",
            "Found 1 validated image filenames belonging to 1 classes.\n",
            "Found 1 validated image filenames belonging to 1 classes.\n",
            "Found 1 validated image filenames belonging to 1 classes.\n",
            "Found 1 validated image filenames belonging to 1 classes.\n",
            "Found 1 validated image filenames belonging to 1 classes.\n",
            "Found 1 validated image filenames belonging to 1 classes.\n",
            "Found 1 validated image filenames belonging to 1 classes.\n",
            "Found 1 validated image filenames belonging to 1 classes.\n",
            "Found 1 validated image filenames belonging to 1 classes.\n",
            "Found 1 validated image filenames belonging to 1 classes.\n",
            "Found 1 validated image filenames belonging to 1 classes.\n",
            "Found 1 validated image filenames belonging to 1 classes.\n",
            "Found 1 validated image filenames belonging to 1 classes.\n",
            "Found 1 validated image filenames belonging to 1 classes.\n",
            "Found 1 validated image filenames belonging to 1 classes.\n",
            "Found 1 validated image filenames belonging to 1 classes.\n",
            "Found 1 validated image filenames belonging to 1 classes.\n",
            "Found 1 validated image filenames belonging to 1 classes.\n",
            "Found 1 validated image filenames belonging to 1 classes.\n",
            "Found 1 validated image filenames belonging to 1 classes.\n",
            "Found 1 validated image filenames belonging to 1 classes.\n",
            "Found 1 validated image filenames belonging to 1 classes.\n",
            "Found 1 validated image filenames belonging to 1 classes.\n",
            "Found 1 validated image filenames belonging to 1 classes.\n",
            "Found 1 validated image filenames belonging to 1 classes.\n",
            "Found 1 validated image filenames belonging to 1 classes.\n",
            "Found 1 validated image filenames belonging to 1 classes.\n",
            "Found 1 validated image filenames belonging to 1 classes.\n",
            "Found 1 validated image filenames belonging to 1 classes.\n",
            "Found 1 validated image filenames belonging to 1 classes.\n",
            "Found 1 validated image filenames belonging to 1 classes.\n",
            "Found 1 validated image filenames belonging to 1 classes.\n",
            "Found 1 validated image filenames belonging to 1 classes.\n",
            "Found 1 validated image filenames belonging to 1 classes.\n",
            "Found 1 validated image filenames belonging to 1 classes.\n",
            "Found 1 validated image filenames belonging to 1 classes.\n",
            "Found 1 validated image filenames belonging to 1 classes.\n",
            "Found 1 validated image filenames belonging to 1 classes.\n",
            "Found 1 validated image filenames belonging to 1 classes.\n",
            "Found 1 validated image filenames belonging to 1 classes.\n",
            "Found 1 validated image filenames belonging to 1 classes.\n",
            "Found 1 validated image filenames belonging to 1 classes.\n",
            "Found 1 validated image filenames belonging to 1 classes.\n",
            "Found 1 validated image filenames belonging to 1 classes.\n",
            "Found 1 validated image filenames belonging to 1 classes.\n",
            "Found 1 validated image filenames belonging to 1 classes.\n",
            "Found 1 validated image filenames belonging to 1 classes.\n",
            "Found 1 validated image filenames belonging to 1 classes.\n",
            "Found 1 validated image filenames belonging to 1 classes.\n",
            "Found 1 validated image filenames belonging to 1 classes.\n",
            "Found 1 validated image filenames belonging to 1 classes.\n",
            "Found 1 validated image filenames belonging to 1 classes.\n",
            "Found 1 validated image filenames belonging to 1 classes.\n",
            "Found 1 validated image filenames belonging to 1 classes.\n",
            "Found 1 validated image filenames belonging to 1 classes.\n",
            "Found 1 validated image filenames belonging to 1 classes.\n",
            "Found 1 validated image filenames belonging to 1 classes.\n",
            "Found 1 validated image filenames belonging to 1 classes.\n",
            "Found 1 validated image filenames belonging to 1 classes.\n",
            "Found 1 validated image filenames belonging to 1 classes.\n",
            "Found 1 validated image filenames belonging to 1 classes.\n",
            "Found 1 validated image filenames belonging to 1 classes.\n",
            "Found 1 validated image filenames belonging to 1 classes.\n",
            "Found 1 validated image filenames belonging to 1 classes.\n",
            "Found 1 validated image filenames belonging to 1 classes.\n",
            "Found 1 validated image filenames belonging to 1 classes.\n",
            "Found 1 validated image filenames belonging to 1 classes.\n",
            "Found 1 validated image filenames belonging to 1 classes.\n",
            "Found 1 validated image filenames belonging to 1 classes.\n",
            "Found 1 validated image filenames belonging to 1 classes.\n",
            "Found 1 validated image filenames belonging to 1 classes.\n",
            "Found 1 validated image filenames belonging to 1 classes.\n",
            "Found 1 validated image filenames belonging to 1 classes.\n",
            "Found 1 validated image filenames belonging to 1 classes.\n",
            "Found 1 validated image filenames belonging to 1 classes.\n",
            "Found 1 validated image filenames belonging to 1 classes.\n",
            "Found 1 validated image filenames belonging to 1 classes.\n",
            "Found 1 validated image filenames belonging to 1 classes.\n",
            "Found 1 validated image filenames belonging to 1 classes.\n",
            "Found 1 validated image filenames belonging to 1 classes.\n",
            "Found 1 validated image filenames belonging to 1 classes.\n",
            "Found 1 validated image filenames belonging to 1 classes.\n",
            "Found 1 validated image filenames belonging to 1 classes.\n",
            "Found 1 validated image filenames belonging to 1 classes.\n",
            "Found 1 validated image filenames belonging to 1 classes.\n",
            "Found 1 validated image filenames belonging to 1 classes.\n",
            "Found 1 validated image filenames belonging to 1 classes.\n",
            "Found 1 validated image filenames belonging to 1 classes.\n",
            "Found 1 validated image filenames belonging to 1 classes.\n",
            "Found 1 validated image filenames belonging to 1 classes.\n",
            "Found 1 validated image filenames belonging to 1 classes.\n",
            "Found 1 validated image filenames belonging to 1 classes.\n",
            "Found 1 validated image filenames belonging to 1 classes.\n",
            "Found 1 validated image filenames belonging to 1 classes.\n",
            "Found 1 validated image filenames belonging to 1 classes.\n",
            "Found 1 validated image filenames belonging to 1 classes.\n",
            "Found 1 validated image filenames belonging to 1 classes.\n",
            "Found 1 validated image filenames belonging to 1 classes.\n",
            "Found 1 validated image filenames belonging to 1 classes.\n",
            "Found 1 validated image filenames belonging to 1 classes.\n",
            "Found 1 validated image filenames belonging to 1 classes.\n",
            "Found 1 validated image filenames belonging to 1 classes.\n",
            "Found 1 validated image filenames belonging to 1 classes.\n",
            "Found 1 validated image filenames belonging to 1 classes.\n",
            "Found 1 validated image filenames belonging to 1 classes.\n",
            "Found 1 validated image filenames belonging to 1 classes.\n",
            "Found 1 validated image filenames belonging to 1 classes.\n",
            "Found 1 validated image filenames belonging to 1 classes.\n",
            "Found 1 validated image filenames belonging to 1 classes.\n",
            "Found 1 validated image filenames belonging to 1 classes.\n",
            "Found 1 validated image filenames belonging to 1 classes.\n",
            "Found 1 validated image filenames belonging to 1 classes.\n",
            "Found 1 validated image filenames belonging to 1 classes.\n",
            "Found 1 validated image filenames belonging to 1 classes.\n",
            "Found 1 validated image filenames belonging to 1 classes.\n",
            "Found 1 validated image filenames belonging to 1 classes.\n",
            "Found 1 validated image filenames belonging to 1 classes.\n",
            "Found 1 validated image filenames belonging to 1 classes.\n",
            "Found 1 validated image filenames belonging to 1 classes.\n",
            "Found 1 validated image filenames belonging to 1 classes.\n",
            "Found 1 validated image filenames belonging to 1 classes.\n",
            "Found 1 validated image filenames belonging to 1 classes.\n",
            "Found 1 validated image filenames belonging to 1 classes.\n",
            "Found 1 validated image filenames belonging to 1 classes.\n",
            "Found 1 validated image filenames belonging to 1 classes.\n",
            "Found 1 validated image filenames belonging to 1 classes.\n",
            "Found 1 validated image filenames belonging to 1 classes.\n",
            "Found 1 validated image filenames belonging to 1 classes.\n",
            "Found 1 validated image filenames belonging to 1 classes.\n",
            "Found 1 validated image filenames belonging to 1 classes.\n",
            "Found 1 validated image filenames belonging to 1 classes.\n",
            "Found 1 validated image filenames belonging to 1 classes.\n",
            "Found 1 validated image filenames belonging to 1 classes.\n",
            "Found 1 validated image filenames belonging to 1 classes.\n",
            "Found 1 validated image filenames belonging to 1 classes.\n",
            "Found 1 validated image filenames belonging to 1 classes.\n",
            "Found 1 validated image filenames belonging to 1 classes.\n",
            "Found 1 validated image filenames belonging to 1 classes.\n",
            "Found 1 validated image filenames belonging to 1 classes.\n",
            "Found 1 validated image filenames belonging to 1 classes.\n",
            "Found 1 validated image filenames belonging to 1 classes.\n",
            "Found 1 validated image filenames belonging to 1 classes.\n",
            "Found 1 validated image filenames belonging to 1 classes.\n",
            "Found 1 validated image filenames belonging to 1 classes.\n",
            "Found 1 validated image filenames belonging to 1 classes.\n",
            "Found 1 validated image filenames belonging to 1 classes.\n",
            "Found 1 validated image filenames belonging to 1 classes.\n",
            "Found 1 validated image filenames belonging to 1 classes.\n",
            "Found 1 validated image filenames belonging to 1 classes.\n",
            "Found 1 validated image filenames belonging to 1 classes.\n",
            "Found 1 validated image filenames belonging to 1 classes.\n",
            "Found 1 validated image filenames belonging to 1 classes.\n",
            "Found 1 validated image filenames belonging to 1 classes.\n",
            "Found 1 validated image filenames belonging to 1 classes.\n",
            "Found 1 validated image filenames belonging to 1 classes.\n",
            "Found 1 validated image filenames belonging to 1 classes.\n",
            "Found 1 validated image filenames belonging to 1 classes.\n",
            "Found 1 validated image filenames belonging to 1 classes.\n",
            "Found 1 validated image filenames belonging to 1 classes.\n",
            "Found 1 validated image filenames belonging to 1 classes.\n",
            "Found 1 validated image filenames belonging to 1 classes.\n",
            "Found 1 validated image filenames belonging to 1 classes.\n",
            "Found 1 validated image filenames belonging to 1 classes.\n",
            "Found 1 validated image filenames belonging to 1 classes.\n",
            "Found 1 validated image filenames belonging to 1 classes.\n",
            "Found 1 validated image filenames belonging to 1 classes.\n",
            "Found 1 validated image filenames belonging to 1 classes.\n",
            "Found 1 validated image filenames belonging to 1 classes.\n",
            "Found 1 validated image filenames belonging to 1 classes.\n",
            "Found 1 validated image filenames belonging to 1 classes.\n",
            "Found 1 validated image filenames belonging to 1 classes.\n",
            "Found 1 validated image filenames belonging to 1 classes.\n",
            "Found 1 validated image filenames belonging to 1 classes.\n",
            "Found 1 validated image filenames belonging to 1 classes.\n",
            "Found 1 validated image filenames belonging to 1 classes.\n",
            "Found 1 validated image filenames belonging to 1 classes.\n",
            "Found 1 validated image filenames belonging to 1 classes.\n",
            "Found 1 validated image filenames belonging to 1 classes.\n",
            "Found 1 validated image filenames belonging to 1 classes.\n",
            "Found 1 validated image filenames belonging to 1 classes.\n",
            "Found 1 validated image filenames belonging to 1 classes.\n",
            "Found 1 validated image filenames belonging to 1 classes.\n",
            "Found 1 validated image filenames belonging to 1 classes.\n",
            "Found 1 validated image filenames belonging to 1 classes.\n",
            "Found 1 validated image filenames belonging to 1 classes.\n",
            "Found 1 validated image filenames belonging to 1 classes.\n",
            "Found 1 validated image filenames belonging to 1 classes.\n",
            "Found 1 validated image filenames belonging to 1 classes.\n",
            "Found 1 validated image filenames belonging to 1 classes.\n",
            "Found 1 validated image filenames belonging to 1 classes.\n",
            "Found 1 validated image filenames belonging to 1 classes.\n",
            "Found 1 validated image filenames belonging to 1 classes.\n",
            "Found 1 validated image filenames belonging to 1 classes.\n",
            "Found 1 validated image filenames belonging to 1 classes.\n",
            "Found 1 validated image filenames belonging to 1 classes.\n",
            "Found 1 validated image filenames belonging to 1 classes.\n",
            "Found 1 validated image filenames belonging to 1 classes.\n",
            "Found 1 validated image filenames belonging to 1 classes.\n",
            "Found 1 validated image filenames belonging to 1 classes.\n",
            "Found 1 validated image filenames belonging to 1 classes.\n",
            "Found 1 validated image filenames belonging to 1 classes.\n",
            "Found 1 validated image filenames belonging to 1 classes.\n",
            "Found 1 validated image filenames belonging to 1 classes.\n",
            "Found 1 validated image filenames belonging to 1 classes.\n",
            "Found 1 validated image filenames belonging to 1 classes.\n",
            "Found 1 validated image filenames belonging to 1 classes.\n",
            "Found 1 validated image filenames belonging to 1 classes.\n",
            "Found 1 validated image filenames belonging to 1 classes.\n",
            "Found 1 validated image filenames belonging to 1 classes.\n",
            "Found 1 validated image filenames belonging to 1 classes.\n",
            "Found 1 validated image filenames belonging to 1 classes.\n",
            "Found 1 validated image filenames belonging to 1 classes.\n",
            "Found 1 validated image filenames belonging to 1 classes.\n",
            "Found 1 validated image filenames belonging to 1 classes.\n",
            "Found 1 validated image filenames belonging to 1 classes.\n",
            "Found 1 validated image filenames belonging to 1 classes.\n",
            "Found 1 validated image filenames belonging to 1 classes.\n",
            "Found 1 validated image filenames belonging to 1 classes.\n",
            "Found 1 validated image filenames belonging to 1 classes.\n",
            "Found 1 validated image filenames belonging to 1 classes.\n",
            "Found 1 validated image filenames belonging to 1 classes.\n",
            "Found 1 validated image filenames belonging to 1 classes.\n",
            "Found 1 validated image filenames belonging to 1 classes.\n",
            "Found 1 validated image filenames belonging to 1 classes.\n",
            "Found 1 validated image filenames belonging to 1 classes.\n",
            "Found 1 validated image filenames belonging to 1 classes.\n",
            "Found 1 validated image filenames belonging to 1 classes.\n",
            "Found 1 validated image filenames belonging to 1 classes.\n",
            "Found 1 validated image filenames belonging to 1 classes.\n",
            "Found 1 validated image filenames belonging to 1 classes.\n",
            "Found 1 validated image filenames belonging to 1 classes.\n",
            "Found 1 validated image filenames belonging to 1 classes.\n",
            "Found 1 validated image filenames belonging to 1 classes.\n",
            "Found 1 validated image filenames belonging to 1 classes.\n",
            "Found 1 validated image filenames belonging to 1 classes.\n",
            "Found 1 validated image filenames belonging to 1 classes.\n",
            "Found 1 validated image filenames belonging to 1 classes.\n",
            "Found 1 validated image filenames belonging to 1 classes.\n",
            "Found 1 validated image filenames belonging to 1 classes.\n",
            "Found 1 validated image filenames belonging to 1 classes.\n",
            "Found 1 validated image filenames belonging to 1 classes.\n",
            "Found 1 validated image filenames belonging to 1 classes.\n",
            "Found 1 validated image filenames belonging to 1 classes.\n",
            "Found 1 validated image filenames belonging to 1 classes.\n",
            "Found 1 validated image filenames belonging to 1 classes.\n",
            "Found 1 validated image filenames belonging to 1 classes.\n",
            "Found 1 validated image filenames belonging to 1 classes.\n",
            "Found 1 validated image filenames belonging to 1 classes.\n",
            "Found 1 validated image filenames belonging to 1 classes.\n",
            "Found 1 validated image filenames belonging to 1 classes.\n",
            "Found 1 validated image filenames belonging to 1 classes.\n",
            "Found 1 validated image filenames belonging to 1 classes.\n",
            "Found 1 validated image filenames belonging to 1 classes.\n",
            "Found 1 validated image filenames belonging to 1 classes.\n",
            "Found 1 validated image filenames belonging to 1 classes.\n",
            "Found 1 validated image filenames belonging to 1 classes.\n",
            "Found 1 validated image filenames belonging to 1 classes.\n",
            "Found 1 validated image filenames belonging to 1 classes.\n",
            "Found 1 validated image filenames belonging to 1 classes.\n",
            "Found 1 validated image filenames belonging to 1 classes.\n",
            "Found 1 validated image filenames belonging to 1 classes.\n",
            "Found 1 validated image filenames belonging to 1 classes.\n",
            "Found 1 validated image filenames belonging to 1 classes.\n",
            "Found 1 validated image filenames belonging to 1 classes.\n",
            "Found 1 validated image filenames belonging to 1 classes.\n",
            "Found 1 validated image filenames belonging to 1 classes.\n",
            "Found 1 validated image filenames belonging to 1 classes.\n",
            "Found 1 validated image filenames belonging to 1 classes.\n",
            "Found 1 validated image filenames belonging to 1 classes.\n",
            "Found 1 validated image filenames belonging to 1 classes.\n",
            "Found 1 validated image filenames belonging to 1 classes.\n",
            "Found 1 validated image filenames belonging to 1 classes.\n",
            "Found 1 validated image filenames belonging to 1 classes.\n",
            "Found 1 validated image filenames belonging to 1 classes.\n"
          ],
          "name": "stdout"
        }
      ]
    },
    {
      "cell_type": "markdown",
      "metadata": {
        "id": "TseU2-RqHScp",
        "colab_type": "text"
      },
      "source": [
        "# Gather Data From Files"
      ]
    },
    {
      "cell_type": "code",
      "metadata": {
        "id": "pb8JVlR-CVhv",
        "colab_type": "code",
        "outputId": "a6183f05-9c38-4785-a64c-ac53e734864c",
        "colab": {
          "base_uri": "https://localhost:8080/",
          "height": 289
        }
      },
      "source": [
        "traincsv = pd.read_csv(\"/content/drive/My Drive/CS412/Train.csv\")\n",
        "traincsv[\"Id\"] += \".jpg\"\n",
        "#valData4 = traincsv.groupby(\"Category\").get_group(4).reset_index()\n",
        "#traincsv = traincsv[traincsv.Category != 4].copy()\n",
        "#for root, dirs, files in os.walk(\"/content/drive/My Drive/CS412/ImageAugmention/4\"):\n",
        "#  traincsv = traincsv.append(pd.DataFrame({'Id': files,'Category': [4] * len(files)}), ignore_index = True)\n",
        "\n",
        "for index in range(0, len(traincsv)):\n",
        "  if(traincsv[\"Category\"][index] != 4):\n",
        "    traincsv[\"Id\"][index] = \"DatasByFolder/\" + str(traincsv[\"Category\"][index]) + \"/\" + traincsv[\"Id\"][index]\n",
        "\n",
        "#for index in range(0, len(valData4)):\n",
        "#  valData4[\"Id\"][index] = \"DatasByFolder/\" + str(valData4[\"Category\"][index]) + \"/\" + valData4[\"Id\"][index]\n",
        "\n",
        "traincsv = traincsv.astype({\"Id\": str, \"Category\": str})\n",
        "#valData4 = valData4.astype({\"Id\": str, \"Category\": str})\n",
        "traincsv.head()"
      ],
      "execution_count": 0,
      "outputs": [
        {
          "output_type": "stream",
          "text": [
            "/usr/local/lib/python3.6/dist-packages/ipykernel_launcher.py:10: SettingWithCopyWarning: \n",
            "A value is trying to be set on a copy of a slice from a DataFrame\n",
            "\n",
            "See the caveats in the documentation: https://pandas.pydata.org/pandas-docs/stable/user_guide/indexing.html#returning-a-view-versus-a-copy\n",
            "  # Remove the CWD from sys.path while we load stuff.\n"
          ],
          "name": "stderr"
        },
        {
          "output_type": "execute_result",
          "data": {
            "text/html": [
              "<div>\n",
              "<style scoped>\n",
              "    .dataframe tbody tr th:only-of-type {\n",
              "        vertical-align: middle;\n",
              "    }\n",
              "\n",
              "    .dataframe tbody tr th {\n",
              "        vertical-align: top;\n",
              "    }\n",
              "\n",
              "    .dataframe thead th {\n",
              "        text-align: right;\n",
              "    }\n",
              "</style>\n",
              "<table border=\"1\" class=\"dataframe\">\n",
              "  <thead>\n",
              "    <tr style=\"text-align: right;\">\n",
              "      <th></th>\n",
              "      <th>Id</th>\n",
              "      <th>Category</th>\n",
              "    </tr>\n",
              "  </thead>\n",
              "  <tbody>\n",
              "    <tr>\n",
              "      <th>0</th>\n",
              "      <td>DatasByFolder/2/Image_1.jpg</td>\n",
              "      <td>2</td>\n",
              "    </tr>\n",
              "    <tr>\n",
              "      <th>1</th>\n",
              "      <td>DatasByFolder/2/Image_2.jpg</td>\n",
              "      <td>2</td>\n",
              "    </tr>\n",
              "    <tr>\n",
              "      <th>2</th>\n",
              "      <td>DatasByFolder/5/Image_3.jpg</td>\n",
              "      <td>5</td>\n",
              "    </tr>\n",
              "    <tr>\n",
              "      <th>3</th>\n",
              "      <td>DatasByFolder/2/Image_4.jpg</td>\n",
              "      <td>2</td>\n",
              "    </tr>\n",
              "    <tr>\n",
              "      <th>4</th>\n",
              "      <td>DatasByFolder/1/Image_5.jpg</td>\n",
              "      <td>1</td>\n",
              "    </tr>\n",
              "  </tbody>\n",
              "</table>\n",
              "</div>"
            ],
            "text/plain": [
              "                            Id Category\n",
              "0  DatasByFolder/2/Image_1.jpg        2\n",
              "1  DatasByFolder/2/Image_2.jpg        2\n",
              "2  DatasByFolder/5/Image_3.jpg        5\n",
              "3  DatasByFolder/2/Image_4.jpg        2\n",
              "4  DatasByFolder/1/Image_5.jpg        1"
            ]
          },
          "metadata": {
            "tags": []
          },
          "execution_count": 4
        }
      ]
    },
    {
      "cell_type": "code",
      "metadata": {
        "id": "EkPRsVartlwk",
        "colab_type": "code",
        "colab": {}
      },
      "source": [
        "\n",
        "trainData1, valData1 = train_test_split(traincsv.groupby(\"Category\").get_group(\"1\"), test_size=0.2)\n",
        "trainData2, valData2 = train_test_split(traincsv.groupby(\"Category\").get_group(\"2\"), test_size=0.2)\n",
        "trainData3, valData3 = train_test_split(traincsv.groupby(\"Category\").get_group(\"3\"), test_size=0.2)\n",
        "trainData4, valData4 = train_test_split(traincsv.groupby(\"Category\").get_group(\"4\"), test_size=0.2)\n",
        "trainData5, valData5 = train_test_split(traincsv.groupby(\"Category\").get_group(\"5\"), test_size=0.2)"
      ],
      "execution_count": 0,
      "outputs": []
    },
    {
      "cell_type": "code",
      "metadata": {
        "id": "KEe8XwjBKs9q",
        "colab_type": "code",
        "colab": {}
      },
      "source": [
        "trainData = pd.concat([trainData4, trainData1, trainData2.sample(2200), trainData3, trainData4, trainData5])\n",
        "trainData = trainData.sample(frac=1).reset_index(drop=True)\n",
        "valData = pd.concat([valData1, valData2, valData3, valData4, valData5])\n",
        "valData = valData.sample(frac=1).reset_index(drop=True)"
      ],
      "execution_count": 0,
      "outputs": []
    },
    {
      "cell_type": "markdown",
      "metadata": {
        "id": "OvDURr8bO2Fn",
        "colab_type": "text"
      },
      "source": [
        "#Create from dataframe"
      ]
    },
    {
      "cell_type": "markdown",
      "metadata": {
        "id": "LZkECr3_SKG0",
        "colab_type": "text"
      },
      "source": [
        "We used 224x224 for some of the models as picture size since it game better results in our models. We created a fixed number of augmenatation and saved them to create more augmented images. Above codes does file seperation and this save method on google drive"
      ]
    },
    {
      "cell_type": "code",
      "metadata": {
        "id": "JJRtO2HJFcTU",
        "colab_type": "code",
        "colab": {}
      },
      "source": [
        "batch_size = 128\n",
        "from tensorflow.keras.preprocessing.image import ImageDataGenerator\n",
        "# All images will be rescaled by 1./255\n",
        "train_datagen = ImageDataGenerator(rescale=1./255,\n",
        "  width_shift_range=0.2,\n",
        "  height_shift_range=0.2,\n",
        "  horizontal_flip=True,\n",
        "  vertical_flip=True,\n",
        "  fill_mode='nearest') # set validation split\n",
        "\n",
        "validation_datagen = ImageDataGenerator(rescale=1/255)\n",
        "\n",
        "def dataGen(_trainData, _valData, _batchSize = 32, _class_mode=\"categorical\"):\n",
        "  # Flow training images in batches of 128 using train_datagen generator\n",
        "  _train_generator = train_datagen.flow_from_dataframe(\n",
        "          _trainData,  # This is the source directory for training images\n",
        "          directory=\"/content/drive/My Drive/CS412/\",\n",
        "          x_col=\"Id\",\n",
        "          y_col=\"Category\",\n",
        "          target_size=(256, 256),  # All images will be resized to 200 x 200\n",
        "          batch_size=_batchSize,\n",
        "          # Since we use categorical_crossentropy loss, we need categorical labels\n",
        "          class_mode=_class_mode)\n",
        "\n",
        "  # Flow training images in batches of 128 using train_datagen generator\n",
        "  _validation_generator = validation_datagen.flow_from_dataframe(\n",
        "          _valData,  # This is the source directory for training images\n",
        "          directory=\"/content/drive/My Drive/CS412/\",\n",
        "          x_col=\"Id\",\n",
        "          y_col=\"Category\",\n",
        "          target_size=(256, 256),  # All images will be resized to 200 x 200\n",
        "          batch_size=_batchSize,\n",
        "          # Since we use categorical_crossentropy loss, we need categorical labels\n",
        "          class_mode=_class_mode)\n",
        "\n",
        "  return _train_generator, _validation_generator"
      ],
      "execution_count": 0,
      "outputs": []
    },
    {
      "cell_type": "markdown",
      "metadata": {
        "id": "A3ZPJjbiO5J9",
        "colab_type": "text"
      },
      "source": [
        "#Create from folder"
      ]
    },
    {
      "cell_type": "code",
      "metadata": {
        "id": "qaeoMKhMe2Xp",
        "colab_type": "code",
        "outputId": "1329669c-034f-498c-c3f8-fbdaef2b3d0a",
        "colab": {
          "base_uri": "https://localhost:8080/",
          "height": 51
        }
      },
      "source": [
        "batch_size = 32\n",
        "from tensorflow.keras.preprocessing.image import ImageDataGenerator\n",
        "# All images will be rescaled by 1./255\n",
        "train_datagen = ImageDataGenerator(rescale=1/255,\n",
        "  rotation_range=40,\n",
        "  width_shift_range=0.2,\n",
        "  height_shift_range=0.2,\n",
        "  shear_range=0.2,\n",
        "  horizontal_flip=True,\n",
        "  fill_mode='nearest') # set validation split\n",
        "\n",
        "# Flow training images in batches of 128 using train_datagen generator\n",
        "train_generator = train_datagen.flow_from_directory(\n",
        "        '/content/drive/My Drive/CS412/DatasByFolder',  # This is the source directory for training images\n",
        "        target_size=(256, 256),  # All images will be resized to 200 x 200\n",
        "        batch_size=batch_size,\n",
        "        # Specify the classes explicitly\n",
        "        classes = [\"1\", \"2\", \"3\", \"4\", \"5\"],\n",
        "        # Since we use categorical_crossentropy loss, we need categorical labels\n",
        "        class_mode='categorical')\n",
        "\n",
        "validation_datagen = ImageDataGenerator(rescale=1/255)\n",
        "# Flow training images in batches of 128 using train_datagen generator\n",
        "validation_generator = validation_datagen.flow_from_directory(\n",
        "        '/content/drive/My Drive/CS412/ValidationDatas',  # This is the source directory for training images\n",
        "        target_size=(256, 256),  # All images will be resized to 200 x 200\n",
        "        batch_size=batch_size,\n",
        "        # Specify the classes explicitly\n",
        "        classes = [\"1\", \"2\", \"3\", \"4\", \"5\"],\n",
        "        # Since we use categorical_crossentropy loss, we need categorical labels\n",
        "        class_mode='categorical')"
      ],
      "execution_count": 0,
      "outputs": [
        {
          "output_type": "stream",
          "text": [
            "Found 10000 images belonging to 5 classes.\n",
            "Found 0 images belonging to 5 classes.\n"
          ],
          "name": "stdout"
        }
      ]
    },
    {
      "cell_type": "markdown",
      "metadata": {
        "id": "Vk1Y_uL8Ma0u",
        "colab_type": "text"
      },
      "source": [
        "#Gather Test Files"
      ]
    },
    {
      "cell_type": "code",
      "metadata": {
        "id": "sDrzRL2Pnxwd",
        "colab_type": "code",
        "colab": {}
      },
      "source": [
        "testcsv = pd.read_csv(\"/content/drive/My Drive/CS412/Test.csv\")\n",
        "testcsv.head()"
      ],
      "execution_count": 0,
      "outputs": []
    },
    {
      "cell_type": "code",
      "metadata": {
        "id": "mylV6kMO6DYD",
        "colab_type": "code",
        "outputId": "42a0f458-08f9-45de-f619-752cad6b4ad7",
        "colab": {
          "base_uri": "https://localhost:8080/",
          "height": 34
        }
      },
      "source": [
        "batch_size = 128\n",
        "from tensorflow.keras.preprocessing.image import ImageDataGenerator\n",
        "# All images will be rescaled by 1./255\n",
        "test_datagen = ImageDataGenerator(rescale=1/255)\n",
        "# Flow training images in batches of 128 using train_datagen generator\n",
        "test_generator = test_datagen.flow_from_directory(\n",
        "        '/content/drive/My Drive/CS412/TestData',  # This is the source directory for training images\n",
        "        target_size=(256, 256),  # All images will be resized to 200 x 200\n",
        "        batch_size=50,\n",
        "        # Specify the classes explicitly\n",
        "        classes = [\"1\"],\n",
        "        # Since we use categorical_crossentropy loss, we need categorical labels\n",
        "        class_mode=None,\n",
        "        shuffle=False)"
      ],
      "execution_count": 0,
      "outputs": [
        {
          "output_type": "stream",
          "text": [
            "Found 5000 images belonging to 1 classes.\n"
          ],
          "name": "stdout"
        }
      ]
    },
    {
      "cell_type": "markdown",
      "metadata": {
        "id": "9VGHl2j4HsjC",
        "colab_type": "text"
      },
      "source": [
        "#Inception ResNet Model"
      ]
    },
    {
      "cell_type": "code",
      "metadata": {
        "id": "1ZlK8lzNSWLy",
        "colab_type": "code",
        "colab": {}
      },
      "source": [
        "from datetime import datetime\n",
        "%load_ext tensorboard\n",
        "root_logdir = os.path.join('/content/drive/My Drive/CS412', \"final_logs\")\n",
        "%tensorboard --logdir \"/content/drive/My Drive/CS412/final_logs/\""
      ],
      "execution_count": 0,
      "outputs": []
    },
    {
      "cell_type": "code",
      "metadata": {
        "id": "zANJRRAEYID-",
        "colab_type": "code",
        "colab": {}
      },
      "source": [
        "resNetModel_base = tf.keras.applications.InceptionResNetV2(include_top=False, weights=\"imagenet\", input_shape=(224, 224, 3))\n",
        "resNetModel_base.trainable = False\n",
        "\n",
        "resNetModel_base.trainable = True\n",
        "'''set_trainable = False\n",
        "for i in range(len(resNetModel_base.layers)):\n",
        "  if resNetModel_base.layers[i].name.find(\"block8\") != -1:\n",
        "    set_trainable = True\n",
        "  \n",
        "  resNetModel_base.layers[i].trainable = set_trainable'''\n",
        "\n",
        "resNetModel = tf.keras.models.Sequential([\n",
        "                                          resNetModel_base,\n",
        "                                          tf.keras.layers.GlobalAveragePooling2D(),\n",
        "                                          tf.keras.layers.Flatten(),\n",
        "                                          tf.keras.layers.Dense(128, activation=\"relu\", kernel_regularizer=tf.keras.regularizers.l2()),\n",
        "                                          tf.keras.layers.Dense(64, activation=\"relu\"),\n",
        "                                          tf.keras.layers.Dropout(0.7),\n",
        "                                          tf.keras.layers.Dense(5, activation=\"softmax\", kernel_regularizer=tf.keras.regularizers.l2())\n",
        "])\n",
        "\n",
        "resNetModel.compile(loss=\"categorical_crossentropy\",\n",
        "    optimizer=tf.keras.optimizers.SGD(0.0008, 0.9),\n",
        "    metrics=[metrics.F1Score(5), \"acc\"])"
      ],
      "execution_count": 0,
      "outputs": []
    },
    {
      "cell_type": "code",
      "metadata": {
        "id": "393MO3HRjvsS",
        "colab_type": "code",
        "outputId": "eabf18d1-016e-49f6-db47-907ca7f92f8a",
        "colab": {
          "base_uri": "https://localhost:8080/",
          "height": 34
        }
      },
      "source": [
        "resNetModel.load_weights(\"/content/drive/My Drive/CS412/Checkpoints/cpresnet3.ckpt\")"
      ],
      "execution_count": 0,
      "outputs": [
        {
          "output_type": "execute_result",
          "data": {
            "text/plain": [
              "<tensorflow.python.training.tracking.util.CheckpointLoadStatus at 0x7fcf115b4ef0>"
            ]
          },
          "metadata": {
            "tags": []
          },
          "execution_count": 9
        }
      ]
    },
    {
      "cell_type": "code",
      "metadata": {
        "id": "w0rNrHi7mbyG",
        "colab_type": "code",
        "outputId": "278f36a1-e865-44b5-a5b5-3dd8f4450d16",
        "colab": {
          "base_uri": "https://localhost:8080/",
          "height": 782
        }
      },
      "source": [
        "from os import walk\n",
        "from datetime import datetime\n",
        "from sklearn.utils import class_weight\n",
        "\n",
        "checkpoint_path = \"/content/drive/My Drive/CS412/Checkpoints/cpdense35.ckpt\"\n",
        "checkpoint_path2 = \"/content/drive/My Drive/CS412/Checkpoints/cpdense35acc.ckpt\"\n",
        "\n",
        "# Create a callback that saves the model's weights\n",
        "cp_callback = tf.keras.callbacks.ModelCheckpoint(filepath=checkpoint_path,\n",
        "                                                 save_weights_only=True,\n",
        "                                                 save_best_only=True,\n",
        "                                                 verbose=1)\n",
        "\n",
        "cp_callbackAcc = tf.keras.callbacks.ModelCheckpoint(filepath=checkpoint_path2,\n",
        "                                                    monitor=\"val_acc\",\n",
        "                                                    mode=\"max\",\n",
        "                                                    save_weights_only=True,\n",
        "                                                    save_best_only=True)\n",
        "\n",
        "earlystop_callback = tf.keras.callbacks.EarlyStopping(\n",
        "  monitor='val_loss', min_delta=0.0001, mode=\"auto\",\n",
        "  patience=5, verbose=1)\n",
        "\n",
        "logdir = os.path.join(\"/content/drive/My Drive/CS412/final_logs\", \"Dense\" + datetime.now().strftime(\"%Y%m%d-%H%M%S\"))\n",
        "tensorboard_cb= tf.keras.callbacks.TensorBoard(logdir, histogram_freq=1)\n",
        "\n",
        "batch_size = 32\n",
        "testSplit = 0.2\n",
        "cat1, val1 = train_test_split(traincsv.groupby(\"Category\").get_group(\"1\").sample(2135), test_size=testSplit)\n",
        "cat2, val2 = train_test_split(traincsv.groupby(\"Category\").get_group(\"2\").sample(2135), test_size=testSplit)\n",
        "cat3, val3 = train_test_split(traincsv.groupby(\"Category\").get_group(\"3\"), test_size=testSplit)\n",
        "cat4, val4 = train_test_split(traincsv.groupby(\"Category\").get_group(\"4\"), test_size=testSplit)\n",
        "cat5, val5 = train_test_split(traincsv.groupby(\"Category\").get_group(\"5\"), test_size=testSplit)\n",
        "#cat4 = np.array_split(valData4.sample(frac=1), fold_no)\n",
        "\n",
        "trainData4 = pd.DataFrame({\"Id\": [\"\"], \"Category\": [\"\"]})\n",
        "for _, row in cat4.iterrows():\n",
        "  if(len(row[\"Id\"]) < 4):\n",
        "    continue \n",
        "  f = []\n",
        "  for (dirpath, dirnames, filenames) in walk('/content/drive/My Drive/CS412/ImageAugmention/4/' + str(row[\"Id\"][:len(row[\"Id\"]) - 4])):\n",
        "    trainData4 = trainData4.append(pd.DataFrame({\"Id\": [\"DatasByFolder/4/\" + str(row[\"Id\"])], \"Category\": [\"4\"]}))\n",
        "    trainData4 = trainData4.append(pd.DataFrame({\"Id\": [\"DatasByFolder/4/\" + str(row[\"Id\"])], \"Category\": [\"4\"]}))\n",
        "    for filename in filenames:\n",
        "      trainData4 = trainData4.append(pd.DataFrame({\"Id\": [\"ImageAugmention/4/\" + str(row[\"Id\"][:len(row[\"Id\"]) - 4]) + \"/\" + filename], \"Category\": [\"4\"]}))\n",
        "    trainData4 = trainData4.append(pd.DataFrame({\"Id\": [\"DatasByFolder/4/\" + str(row[\"Id\"])], \"Category\": [\"4\"]}))\n",
        "trainData4.reset_index(inplace=True, drop=True)\n",
        "\n",
        "val4.reset_index(inplace=True, drop=True)\n",
        "for index in range(0, len(val4)):\n",
        "  val4[\"Id\"][index] = \"DatasByFolder/4/\" + val4[\"Id\"][index]\n",
        "\n",
        "histories = []\n",
        "\n",
        "trainData = pd.concat([cat1, cat2, cat3, trainData4, cat5])\n",
        "trainData = trainData.sample(frac=1).reset_index(drop=True)\n",
        "valData = pd.concat([val1, val2, val3, val4, val5])\n",
        "valData = valData.sample(frac=1).reset_index(drop=True)\n",
        "train_generator, validation_generator = dataGen(trainData, valData)\n",
        "class_weights = class_weight.compute_class_weight('balanced',\n",
        "                                                np.unique(train_generator.labels),\n",
        "                                                train_generator.labels)\n",
        "\n",
        "_weights = {0: class_weights[0], 1: class_weights[1], 2: class_weights[2], 3: class_weights[3], 4: class_weights[4]}\n",
        "print(_weights)\n",
        "n_epochs = 10\n",
        "history = denseNetModel.fit(\n",
        "        train_generator, \n",
        "        validation_data = validation_generator, \n",
        "        validation_steps = validation_generator.samples // batch_size,\n",
        "        steps_per_epoch=int(train_generator.n / train_generator.batch_size),  \n",
        "        epochs=n_epochs,\n",
        "        class_weight=_weights,\n",
        "        verbose=1,\n",
        "        callbacks=[cp_callback, cp_callbackAcc, earlystop_callback])\n",
        "histories = np.append(histories, history)"
      ],
      "execution_count": 0,
      "outputs": [
        {
          "output_type": "stream",
          "text": [
            "/usr/local/lib/python3.6/dist-packages/keras_preprocessing/image/dataframe_iterator.py:282: UserWarning: Found 1 invalid image filename(s) in x_col=\"Id\". These filename(s) will be ignored.\n",
            "  .format(n_invalid, x_col)\n"
          ],
          "name": "stderr"
        },
        {
          "output_type": "stream",
          "text": [
            "Found 7765 validated image filenames belonging to 5 classes.\n",
            "Found 1517 validated image filenames belonging to 5 classes.\n",
            "{0: 0.9092505854800936, 1: 0.9092505854800936, 2: 1.2199528672427338, 3: 0.7590420332355816, 4: 1.507766990291262}\n",
            "Epoch 1/10\n",
            "242/242 [==============================] - ETA: 0s - loss: 1.4664 - f1_score: 0.4809 - acc: 0.4964\n",
            "Epoch 00001: val_loss improved from inf to 1.05493, saving model to /content/drive/My Drive/CS412/Checkpoints/cpdense35.ckpt\n",
            "242/242 [==============================] - 317s 1s/step - loss: 1.4664 - f1_score: 0.4809 - acc: 0.4964 - val_loss: 1.0549 - val_f1_score: 0.5459 - val_acc: 0.6396\n",
            "Epoch 2/10\n",
            "242/242 [==============================] - ETA: 0s - loss: 1.0548 - f1_score: 0.6198 - acc: 0.6347\n",
            "Epoch 00002: val_loss improved from 1.05493 to 0.95256, saving model to /content/drive/My Drive/CS412/Checkpoints/cpdense35.ckpt\n",
            "242/242 [==============================] - 238s 985ms/step - loss: 1.0548 - f1_score: 0.6198 - acc: 0.6347 - val_loss: 0.9526 - val_f1_score: 0.5864 - val_acc: 0.6343\n",
            "Epoch 3/10\n",
            "242/242 [==============================] - ETA: 0s - loss: 0.8999 - f1_score: 0.6726 - acc: 0.6851\n",
            "Epoch 00003: val_loss improved from 0.95256 to 0.90699, saving model to /content/drive/My Drive/CS412/Checkpoints/cpdense35.ckpt\n",
            "242/242 [==============================] - 238s 982ms/step - loss: 0.8999 - f1_score: 0.6726 - acc: 0.6851 - val_loss: 0.9070 - val_f1_score: 0.6407 - val_acc: 0.6815\n",
            "Epoch 4/10\n",
            "242/242 [==============================] - ETA: 0s - loss: 0.8122 - f1_score: 0.7048 - acc: 0.7173\n",
            "Epoch 00004: val_loss improved from 0.90699 to 0.87981, saving model to /content/drive/My Drive/CS412/Checkpoints/cpdense35.ckpt\n",
            "242/242 [==============================] - 239s 989ms/step - loss: 0.8122 - f1_score: 0.7048 - acc: 0.7173 - val_loss: 0.8798 - val_f1_score: 0.6277 - val_acc: 0.6941\n",
            "Epoch 5/10\n",
            "242/242 [==============================] - ETA: 0s - loss: 0.7370 - f1_score: 0.7392 - acc: 0.7508\n",
            "Epoch 00005: val_loss did not improve from 0.87981\n",
            "242/242 [==============================] - 236s 976ms/step - loss: 0.7370 - f1_score: 0.7392 - acc: 0.7508 - val_loss: 0.9332 - val_f1_score: 0.6327 - val_acc: 0.6669\n",
            "Epoch 6/10\n",
            "242/242 [==============================] - ETA: 0s - loss: 0.6622 - f1_score: 0.7676 - acc: 0.7787\n",
            "Epoch 00006: val_loss improved from 0.87981 to 0.84235, saving model to /content/drive/My Drive/CS412/Checkpoints/cpdense35.ckpt\n",
            "242/242 [==============================] - 238s 984ms/step - loss: 0.6622 - f1_score: 0.7676 - acc: 0.7787 - val_loss: 0.8423 - val_f1_score: 0.6644 - val_acc: 0.7061\n",
            "Epoch 7/10\n",
            "242/242 [==============================] - ETA: 0s - loss: 0.5920 - f1_score: 0.7982 - acc: 0.8082\n",
            "Epoch 00007: val_loss did not improve from 0.84235\n",
            "242/242 [==============================] - 236s 975ms/step - loss: 0.5920 - f1_score: 0.7982 - acc: 0.8082 - val_loss: 0.9463 - val_f1_score: 0.6150 - val_acc: 0.6755\n",
            "Epoch 8/10\n",
            "242/242 [==============================] - ETA: 0s - loss: 0.5452 - f1_score: 0.8161 - acc: 0.8257\n",
            "Epoch 00008: val_loss did not improve from 0.84235\n",
            "242/242 [==============================] - 239s 990ms/step - loss: 0.5452 - f1_score: 0.8161 - acc: 0.8257 - val_loss: 0.8840 - val_f1_score: 0.6527 - val_acc: 0.7055\n",
            "Epoch 9/10\n",
            "242/242 [==============================] - ETA: 0s - loss: 0.4964 - f1_score: 0.8323 - acc: 0.8396\n",
            "Epoch 00009: val_loss did not improve from 0.84235\n",
            "242/242 [==============================] - 242s 1s/step - loss: 0.4964 - f1_score: 0.8323 - acc: 0.8396 - val_loss: 0.8502 - val_f1_score: 0.6529 - val_acc: 0.7281\n",
            "Epoch 10/10\n",
            "242/242 [==============================] - ETA: 0s - loss: 0.4439 - f1_score: 0.8484 - acc: 0.8550\n",
            "Epoch 00010: val_loss did not improve from 0.84235\n",
            "242/242 [==============================] - 239s 989ms/step - loss: 0.4439 - f1_score: 0.8484 - acc: 0.8550 - val_loss: 0.8912 - val_f1_score: 0.6833 - val_acc: 0.7274\n"
          ],
          "name": "stdout"
        }
      ]
    },
    {
      "cell_type": "code",
      "metadata": {
        "id": "v0tQEKDvIrV4",
        "colab_type": "code",
        "outputId": "c306c832-691e-43b1-8b06-b68115addc94",
        "colab": {
          "base_uri": "https://localhost:8080/",
          "height": 510
        }
      },
      "source": [
        "n_epochs = 10\n",
        "history = denseNetModel.fit(\n",
        "        train_generator, \n",
        "        validation_data = validation_generator, \n",
        "        validation_steps = validation_generator.samples // batch_size,\n",
        "        steps_per_epoch=int(train_generator.n / train_generator.batch_size),  \n",
        "        epochs=n_epochs,\n",
        "        class_weight=_weights,\n",
        "        verbose=1,\n",
        "        callbacks=[cp_callback, cp_callbackAcc, earlystop_callback])\n",
        "histories = np.append(histories, history)"
      ],
      "execution_count": 0,
      "outputs": [
        {
          "output_type": "stream",
          "text": [
            "Epoch 1/10\n",
            "242/242 [==============================] - ETA: 0s - loss: 0.5875 - f1_score: 0.7969 - acc: 0.8060\n",
            "Epoch 00001: val_loss did not improve from 0.84235\n",
            "242/242 [==============================] - 238s 982ms/step - loss: 0.5875 - f1_score: 0.7969 - acc: 0.8060 - val_loss: 0.9705 - val_f1_score: 0.6274 - val_acc: 0.6961\n",
            "Epoch 2/10\n",
            "242/242 [==============================] - ETA: 0s - loss: 0.5378 - f1_score: 0.8154 - acc: 0.8234\n",
            "Epoch 00002: val_loss did not improve from 0.84235\n",
            "242/242 [==============================] - 237s 978ms/step - loss: 0.5378 - f1_score: 0.8154 - acc: 0.8234 - val_loss: 0.8605 - val_f1_score: 0.6595 - val_acc: 0.7241\n",
            "Epoch 3/10\n",
            "242/242 [==============================] - ETA: 0s - loss: 0.4822 - f1_score: 0.8356 - acc: 0.8425\n",
            "Epoch 00003: val_loss did not improve from 0.84235\n",
            "242/242 [==============================] - 239s 988ms/step - loss: 0.4822 - f1_score: 0.8356 - acc: 0.8425 - val_loss: 0.9066 - val_f1_score: 0.6758 - val_acc: 0.7207\n",
            "Epoch 4/10\n",
            "242/242 [==============================] - ETA: 0s - loss: 0.4555 - f1_score: 0.8473 - acc: 0.8539\n",
            "Epoch 00004: val_loss did not improve from 0.84235\n",
            "242/242 [==============================] - 241s 996ms/step - loss: 0.4555 - f1_score: 0.8473 - acc: 0.8539 - val_loss: 0.9948 - val_f1_score: 0.6525 - val_acc: 0.7068\n",
            "Epoch 5/10\n",
            "242/242 [==============================] - ETA: 0s - loss: 0.3979 - f1_score: 0.8657 - acc: 0.8721\n",
            "Epoch 00005: val_loss did not improve from 0.84235\n",
            "242/242 [==============================] - 244s 1s/step - loss: 0.3979 - f1_score: 0.8657 - acc: 0.8721 - val_loss: 0.9102 - val_f1_score: 0.6852 - val_acc: 0.7214\n",
            "Epoch 6/10\n",
            "242/242 [==============================] - ETA: 0s - loss: 0.3847 - f1_score: 0.8710 - acc: 0.8759\n",
            "Epoch 00006: val_loss did not improve from 0.84235\n",
            "242/242 [==============================] - 242s 999ms/step - loss: 0.3847 - f1_score: 0.8710 - acc: 0.8759 - val_loss: 0.8952 - val_f1_score: 0.6872 - val_acc: 0.7241\n",
            "Epoch 7/10\n",
            "242/242 [==============================] - ETA: 0s - loss: 0.3548 - f1_score: 0.8861 - acc: 0.8903\n",
            "Epoch 00007: val_loss did not improve from 0.84235\n",
            "242/242 [==============================] - 239s 988ms/step - loss: 0.3548 - f1_score: 0.8861 - acc: 0.8903 - val_loss: 0.9723 - val_f1_score: 0.6889 - val_acc: 0.7274\n",
            "Epoch 00007: early stopping\n"
          ],
          "name": "stdout"
        }
      ]
    },
    {
      "cell_type": "code",
      "metadata": {
        "id": "fFdC8W6NSJUd",
        "colab_type": "code",
        "colab": {}
      },
      "source": [
        "denseNetModel.save(\"/content/drive/My Drive/CS412/Models/densenet6889_model.h5\")"
      ],
      "execution_count": 0,
      "outputs": []
    },
    {
      "cell_type": "markdown",
      "metadata": {
        "id": "YGRMjl4-Hh4x",
        "colab_type": "text"
      },
      "source": [
        "Classification Matrix and Reports on Validation Data"
      ]
    },
    {
      "cell_type": "code",
      "metadata": {
        "id": "cAblrC1n2kcT",
        "colab_type": "code",
        "outputId": "76f6521a-2d96-45a7-bf04-3b33122f9b11",
        "colab": {
          "base_uri": "https://localhost:8080/",
          "height": 357
        }
      },
      "source": [
        "classification_generator = validation_datagen.flow_from_dataframe(\n",
        "          valData,  # This is the source directory for training images\n",
        "          directory=\"/content/drive/My Drive/CS412/\",\n",
        "          x_col=\"Id\",\n",
        "          y_col=\"Category\",\n",
        "          target_size=(224, 224),  # All images will be resized to 200 x 200\n",
        "          batch_size=32,\n",
        "          shuffle = False,\n",
        "          # Since we use categorical_crossentropy loss, we need categorical labels\n",
        "          class_mode='categorical')\n",
        "\n",
        "#denseNetModel.load_weights(checkpoint_path)\n",
        "from sklearn.metrics import classification_report, confusion_matrix\n",
        "Y_pred = denseNetModel.predict(classification_generator, classification_generator.samples // 32+1)\n",
        "y_pred = np.argmax(Y_pred, axis=1)\n",
        "print('Confusion Matrix')\n",
        "print(confusion_matrix(classification_generator.classes, y_pred))\n",
        "print('Classification Report')\n",
        "target_names = ['1', '2', '3', '4', '5']\n",
        "print(classification_report(classification_generator.classes, y_pred, target_names=target_names))"
      ],
      "execution_count": 0,
      "outputs": [
        {
          "output_type": "stream",
          "text": [
            "Found 1517 validated image filenames belonging to 5 classes.\n",
            "Confusion Matrix\n",
            "[[266  67  34  10  50]\n",
            " [ 47 316  18   3  43]\n",
            " [  4  10 263  10  32]\n",
            " [  7   0  22  36  21]\n",
            " [ 25  20  11   9 193]]\n",
            "Classification Report\n",
            "              precision    recall  f1-score   support\n",
            "\n",
            "           1       0.76      0.62      0.69       427\n",
            "           2       0.77      0.74      0.75       427\n",
            "           3       0.76      0.82      0.79       319\n",
            "           4       0.53      0.42      0.47        86\n",
            "           5       0.57      0.75      0.65       258\n",
            "\n",
            "    accuracy                           0.71      1517\n",
            "   macro avg       0.68      0.67      0.67      1517\n",
            "weighted avg       0.72      0.71      0.71      1517\n",
            "\n"
          ],
          "name": "stdout"
        }
      ]
    },
    {
      "cell_type": "markdown",
      "metadata": {
        "id": "kTy-fh8gHnSr",
        "colab_type": "text"
      },
      "source": [
        "Performance of each class can be seen in this graph"
      ]
    },
    {
      "cell_type": "code",
      "metadata": {
        "id": "7xzu81-vgzu1",
        "colab_type": "code",
        "outputId": "21dfc2ff-a8f3-4d94-b167-69addf49f39c",
        "colab": {
          "base_uri": "https://localhost:8080/",
          "height": 295
        }
      },
      "source": [
        "import matplotlib.pyplot as pyplot\n",
        "# Plot training & validation loss values\n",
        "bycat = np.transpose(histories[0].history[\"val_f1_score\"])\n",
        "pyplot.plot(bycat[0])\n",
        "pyplot.plot(bycat[1])\n",
        "pyplot.plot(bycat[2])\n",
        "pyplot.plot(bycat[3])\n",
        "pyplot.plot(bycat[4])\n",
        "pyplot.ylim(0,1)\n",
        "pyplot.title('Model F1 Score')\n",
        "pyplot.ylabel('F1 Score')\n",
        "pyplot.xlabel('Epoch')\n",
        "pyplot.legend(['Cat1', 'Cat2', \"Cat3\", \"Cat4\", \"Cat5\"], loc='upper left')\n",
        "pyplot.show()"
      ],
      "execution_count": 0,
      "outputs": [
        {
          "output_type": "display_data",
          "data": {
            "image/png": "[encoded data removed]",
            "text/plain": [
              "<Figure size 432x288 with 1 Axes>"
            ]
          },
          "metadata": {
            "tags": [],
            "needs_background": "light"
          }
        }
      ]
    },
    {
      "cell_type": "markdown",
      "metadata": {
        "id": "l8xm_cl4HxvJ",
        "colab_type": "text"
      },
      "source": [
        "#DenseNet Model"
      ]
    },
    {
      "cell_type": "code",
      "metadata": {
        "id": "qKQH0r2d5Gpl",
        "colab_type": "code",
        "outputId": "1a784bfb-1234-493b-97eb-99e2b1d89dfe",
        "colab": {
          "base_uri": "https://localhost:8080/",
          "height": 1000
        }
      },
      "source": [
        "from sklearn.utils import class_weight\n",
        "\n",
        "denseNetModel_base = tf.keras.applications.DenseNet201(include_top=False, weights=\"imagenet\", input_shape=(256, 256, 3))\n",
        "denseNetModel_base.trainable = False\n",
        "\n",
        "denseNetModel_base.trainable = True\n",
        "set_trainable = False\n",
        "for i in range(len(denseNetModel_base.layers)):\n",
        "  if denseNetModel_base.layers[i].name.find(\"conv4\") != -1:\n",
        "    set_trainable = True\n",
        "  \n",
        "  denseNetModel_base.layers[i].trainable = set_trainable\n",
        "\n",
        "denseNetModel = tf.keras.models.Sequential([\n",
        "                                            denseNetModel_base,\n",
        "                                            tf.keras.layers.GlobalAveragePooling2D(),\n",
        "                                            tf.keras.layers.Flatten(),\n",
        "                                            tf.keras.layers.Dropout(0.7),\n",
        "                                            #tf.keras.layers.Dense(256, activation=\"relu\", kernel_initializer='he_uniform'),\n",
        "                                            tf.keras.layers.Dense(5, activation=\"softmax\", kernel_regularizer=tf.keras.regularizers.l2())\n",
        "])\n",
        "\n",
        "denseNetModel.compile(loss=\"categorical_crossentropy\",\n",
        "    optimizer=tf.keras.optimizers.SGD(0.0006, 0.9),\n",
        "    metrics=[metrics.F1Score(5), \"acc\"])\n",
        "\n",
        "total_sample=train_generator.n\n",
        "\n",
        "cat1, val1 = train_test_split(traincsv.groupby(\"Category\").get_group(\"1\").sample(frac=1), test_size=0.2)\n",
        "cat2, val2 = train_test_split(traincsv.groupby(\"Category\").get_group(\"2\").sample(3200).sample(frac=1), test_size=0.2)\n",
        "cat3, val3 = train_test_split(traincsv.groupby(\"Category\").get_group(\"3\").sample(frac=1), test_size=0.2)\n",
        "cat4, val4 = train_test_split(traincsv.groupby(\"Category\").get_group(\"4\").sample(frac=1), test_size=0.2)\n",
        "cat5, val5 = train_test_split(traincsv.groupby(\"Category\").get_group(\"5\").sample(frac=1), test_size=0.2)\n",
        "\n",
        "cat4.reset_index(inplace=True, drop=True)\n",
        "val4.reset_index(inplace=True, drop=True)\n",
        "\n",
        "for index in range(0, len(cat4)):\n",
        "  cat4[\"Id\"][index] = \"DatasByFolder/4/\" + cat4[\"Id\"][index]\n",
        "  \n",
        "for index in range(0, len(val4)):\n",
        "  val4[\"Id\"][index] = \"DatasByFolder/4/\" + val4[\"Id\"][index]\n",
        "\n",
        "histories = []\n",
        "\n",
        "trainData = pd.concat([cat1, cat2, cat3, cat4, cat5])\n",
        "trainData = trainData.sample(frac=1).reset_index(drop=True)\n",
        "valData = pd.concat([val1, val2, val3, val4, val5])\n",
        "valData = valData.sample(frac=1).reset_index(drop=True)\n",
        "train_generator, validation_generator = dataGen(trainData, valData)\n",
        "\n",
        "class_weights = class_weight.compute_class_weight('balanced',\n",
        "                                                np.unique(train_generator.classes),\n",
        "                                                train_generator.classes)\n",
        "_weights = {0: class_weights[0], 1: class_weights[1], 2: class_weights[2], 3: class_weights[3], 4: class_weights[4]}\n",
        "\n",
        "n_epochs = 30\n",
        "history = denseNetModel.fit(\n",
        "        train_generator, \n",
        "        validation_data = validation_generator, \n",
        "        validation_steps = validation_generator.samples // batch_size,\n",
        "        steps_per_epoch=30,  \n",
        "        epochs=n_epochs,\n",
        "        class_weight=_weights,\n",
        "        verbose=1)\n",
        "histories = np.append(histories, history)"
      ],
      "execution_count": 0,
      "outputs": [
        {
          "output_type": "stream",
          "text": [
            "Found 6967 validated image filenames belonging to 5 classes.\n",
            "Found 1744 validated image filenames belonging to 5 classes.\n",
            "Epoch 1/30\n",
            "30/30 [==============================] - 62s 2s/step - loss: 2.1630 - f1_score: 0.2194 - acc: 0.2450 - val_loss: 1.5254 - val_f1_score: 0.2888 - val_acc: 0.4062\n",
            "Epoch 2/30\n",
            "30/30 [==============================] - 55s 2s/step - loss: 1.8144 - f1_score: 0.3399 - acc: 0.4052 - val_loss: 1.3726 - val_f1_score: 0.3332 - val_acc: 0.4519\n",
            "Epoch 3/30\n",
            "30/30 [==============================] - 47s 2s/step - loss: 1.5335 - f1_score: 0.3899 - acc: 0.4187 - val_loss: 1.2579 - val_f1_score: 0.3879 - val_acc: 0.4976\n",
            "Epoch 4/30\n",
            "30/30 [==============================] - 40s 1s/step - loss: 1.5052 - f1_score: 0.4334 - acc: 0.4771 - val_loss: 1.2049 - val_f1_score: 0.4612 - val_acc: 0.5649\n",
            "Epoch 5/30\n",
            "30/30 [==============================] - 41s 1s/step - loss: 1.3876 - f1_score: 0.4331 - acc: 0.4875 - val_loss: 1.0860 - val_f1_score: 0.5792 - val_acc: 0.6466\n",
            "Epoch 6/30\n",
            "30/30 [==============================] - 40s 1s/step - loss: 1.3280 - f1_score: 0.4892 - acc: 0.5323 - val_loss: 1.0176 - val_f1_score: 0.5353 - val_acc: 0.6034\n",
            "Epoch 7/30\n",
            "30/30 [==============================] - 38s 1s/step - loss: 1.3465 - f1_score: 0.4729 - acc: 0.5219 - val_loss: 1.0049 - val_f1_score: 0.5432 - val_acc: 0.6178\n",
            "Epoch 8/30\n",
            "30/30 [==============================] - 33s 1s/step - loss: 1.2339 - f1_score: 0.5182 - acc: 0.5552 - val_loss: 0.9699 - val_f1_score: 0.5924 - val_acc: 0.6538\n",
            "Epoch 9/30\n",
            "30/30 [==============================] - 36s 1s/step - loss: 1.2201 - f1_score: 0.4996 - acc: 0.5500 - val_loss: 1.0199 - val_f1_score: 0.5922 - val_acc: 0.6298\n",
            "Epoch 10/30\n",
            "30/30 [==============================] - 35s 1s/step - loss: 1.2343 - f1_score: 0.5201 - acc: 0.5594 - val_loss: 0.9208 - val_f1_score: 0.6241 - val_acc: 0.6755\n",
            "Epoch 11/30\n",
            "30/30 [==============================] - 35s 1s/step - loss: 1.1504 - f1_score: 0.5244 - acc: 0.5719 - val_loss: 0.9309 - val_f1_score: 0.5723 - val_acc: 0.6178\n",
            "Epoch 12/30\n",
            "30/30 [==============================] - 31s 1s/step - loss: 1.1861 - f1_score: 0.5296 - acc: 0.5668 - val_loss: 0.9612 - val_f1_score: 0.5961 - val_acc: 0.6178\n",
            "Epoch 13/30\n",
            "30/30 [==============================] - 30s 996ms/step - loss: 1.0790 - f1_score: 0.5431 - acc: 0.6062 - val_loss: 1.0414 - val_f1_score: 0.5477 - val_acc: 0.6082\n",
            "Epoch 14/30\n",
            "30/30 [==============================] - 32s 1s/step - loss: 1.0139 - f1_score: 0.5800 - acc: 0.6281 - val_loss: 0.9060 - val_f1_score: 0.6099 - val_acc: 0.6635\n",
            "Epoch 15/30\n",
            "30/30 [==============================] - 31s 1s/step - loss: 1.1245 - f1_score: 0.5676 - acc: 0.6052 - val_loss: 0.9410 - val_f1_score: 0.5978 - val_acc: 0.6394\n",
            "Epoch 16/30\n",
            "30/30 [==============================] - 30s 994ms/step - loss: 0.9461 - f1_score: 0.6172 - acc: 0.6583 - val_loss: 0.8893 - val_f1_score: 0.6336 - val_acc: 0.6659\n",
            "Epoch 17/30\n",
            "30/30 [==============================] - 31s 1s/step - loss: 1.0086 - f1_score: 0.6071 - acc: 0.6510 - val_loss: 0.9601 - val_f1_score: 0.6008 - val_acc: 0.6538\n",
            "Epoch 18/30\n",
            "30/30 [==============================] - 31s 1s/step - loss: 1.0295 - f1_score: 0.5842 - acc: 0.6229 - val_loss: 0.9714 - val_f1_score: 0.5864 - val_acc: 0.6322\n",
            "Epoch 19/30\n",
            "30/30 [==============================] - 29s 968ms/step - loss: 1.0359 - f1_score: 0.5820 - acc: 0.6141 - val_loss: 0.9118 - val_f1_score: 0.5613 - val_acc: 0.6394\n",
            "Epoch 20/30\n",
            "30/30 [==============================] - 29s 977ms/step - loss: 0.9639 - f1_score: 0.6035 - acc: 0.6438 - val_loss: 0.8961 - val_f1_score: 0.6076 - val_acc: 0.6514\n",
            "Epoch 21/30\n",
            "30/30 [==============================] - 31s 1s/step - loss: 0.9476 - f1_score: 0.6280 - acc: 0.6687 - val_loss: 0.9422 - val_f1_score: 0.6240 - val_acc: 0.6562\n",
            "Epoch 22/30\n",
            "30/30 [==============================] - 29s 963ms/step - loss: 0.9289 - f1_score: 0.6169 - acc: 0.6573 - val_loss: 0.9812 - val_f1_score: 0.6076 - val_acc: 0.6394\n",
            "Epoch 23/30\n",
            "30/30 [==============================] - 29s 966ms/step - loss: 1.0057 - f1_score: 0.6091 - acc: 0.6498 - val_loss: 1.0910 - val_f1_score: 0.5232 - val_acc: 0.5601\n",
            "Epoch 24/30\n",
            "30/30 [==============================] - 29s 979ms/step - loss: 0.9889 - f1_score: 0.5895 - acc: 0.6344 - val_loss: 0.8825 - val_f1_score: 0.6089 - val_acc: 0.6635\n",
            "Epoch 25/30\n",
            "30/30 [==============================] - 29s 979ms/step - loss: 0.9291 - f1_score: 0.6415 - acc: 0.6729 - val_loss: 0.9280 - val_f1_score: 0.5941 - val_acc: 0.6538\n",
            "Epoch 26/30\n",
            "30/30 [==============================] - 29s 952ms/step - loss: 0.9212 - f1_score: 0.6317 - acc: 0.6698 - val_loss: 0.9849 - val_f1_score: 0.6155 - val_acc: 0.6442\n",
            "Epoch 27/30\n",
            "30/30 [==============================] - 29s 952ms/step - loss: 0.8519 - f1_score: 0.6360 - acc: 0.6792 - val_loss: 0.8954 - val_f1_score: 0.6172 - val_acc: 0.6538\n",
            "Epoch 28/30\n",
            "30/30 [==============================] - 29s 978ms/step - loss: 0.9459 - f1_score: 0.6318 - acc: 0.6667 - val_loss: 0.8401 - val_f1_score: 0.6421 - val_acc: 0.6755\n",
            "Epoch 29/30\n",
            "30/30 [==============================] - 29s 962ms/step - loss: 0.8606 - f1_score: 0.6366 - acc: 0.6948 - val_loss: 0.8438 - val_f1_score: 0.5999 - val_acc: 0.6923\n",
            "Epoch 30/30\n",
            "30/30 [==============================] - 29s 970ms/step - loss: 0.8177 - f1_score: 0.6589 - acc: 0.7021 - val_loss: 0.8772 - val_f1_score: 0.6197 - val_acc: 0.6779\n"
          ],
          "name": "stdout"
        }
      ]
    },
    {
      "cell_type": "code",
      "metadata": {
        "id": "0m0FZm5lg-u-",
        "colab_type": "code",
        "outputId": "87b825b6-4360-4068-a393-345b73ba9185",
        "colab": {
          "base_uri": "https://localhost:8080/",
          "height": 34
        }
      },
      "source": [
        "denseNetModel.load_weights(\"/content/drive/My Drive/CS412/Models/cpdense.ckpt\")"
      ],
      "execution_count": 0,
      "outputs": [
        {
          "output_type": "execute_result",
          "data": {
            "text/plain": [
              "<tensorflow.python.training.tracking.util.CheckpointLoadStatus at 0x7fcf10b22f60>"
            ]
          },
          "metadata": {
            "tags": []
          },
          "execution_count": 11
        }
      ]
    },
    {
      "cell_type": "code",
      "metadata": {
        "id": "FYKHAeYAfL33",
        "colab_type": "code",
        "colab": {}
      },
      "source": [
        "denseNetModel.save(\"/content/drive/My Drive/CS412/Models/densenet_model.h5\")"
      ],
      "execution_count": 0,
      "outputs": []
    },
    {
      "cell_type": "code",
      "metadata": {
        "id": "0E55UFuj_9dd",
        "colab_type": "code",
        "colab": {}
      },
      "source": [
        "from datetime import datetime\n",
        "logdir = os.path.join(\"final_logs\", denseNetModel.name + datetime.now().strftime(\"%Y%m%d-%H%M%S\"))\n",
        "tensorboard_cb= tf.keras.callbacks.TensorBoard(logdir, histogram_freq=1)"
      ],
      "execution_count": 0,
      "outputs": []
    },
    {
      "cell_type": "code",
      "metadata": {
        "id": "p7DlvbYxOe6u",
        "colab_type": "code",
        "outputId": "53e0d758-8652-4335-abc4-e428a5fe1baa",
        "colab": {
          "base_uri": "https://localhost:8080/",
          "height": 34
        }
      },
      "source": [
        "pred = np.argmax(denseNetModel.predict(test_generator, verbose=1, steps=5000/50), axis=-1)\n",
        "filenames = test_generator.filenames\n",
        "for i in range(len(filenames)):\n",
        "  filenames[i] = filenames[i][2:len(filenames[i])-4]\n",
        "res = pd.DataFrame({'Id': filenames,'Category': pred + 1})\n",
        "res.set_index(\"Id\", inplace=True)\n",
        "res.to_csv(\"/content/drive/My Drive/CS412/Pred2.csv\")"
      ],
      "execution_count": 0,
      "outputs": [
        {
          "output_type": "stream",
          "text": [
            "  3/100 [..............................] - ETA: 18:58"
          ],
          "name": "stdout"
        }
      ]
    },
    {
      "cell_type": "markdown",
      "metadata": {
        "id": "its4Os3xIAmj",
        "colab_type": "text"
      },
      "source": [
        "#Xception Model"
      ]
    },
    {
      "cell_type": "markdown",
      "metadata": {
        "id": "t-TzFiMvH156",
        "colab_type": "text"
      },
      "source": [
        "Current xception model guesses binary between 4 or not. The only main difference is last dense layer has 5 in main model. We had no time to revert it and run it again since we used two models. But we can provide saved model as md5"
      ]
    },
    {
      "cell_type": "code",
      "metadata": {
        "id": "vbR4ftbB7DrQ",
        "colab_type": "code",
        "colab": {}
      },
      "source": [
        "xceptionModel_base = tf.keras.applications.VGG16(include_top=False, weights=\"imagenet\", input_shape=(224, 224, 3))\n",
        "xceptionModel_base.trainable = False\n",
        "\n",
        "xceptionModel_base.trainable = True\n",
        "set_trainable = False\n",
        "for i in range(len(xceptionModel_base.layers)):\n",
        "  if xceptionModel_base.layers[i].name.find(\"block4_conv1\") != -1:\n",
        "    set_trainable = True\n",
        "  elif xceptionModel_base.layers[i].name.find(\"block5_conv1\") != -1:\n",
        "    set_trainable = True\n",
        "  \n",
        "  xceptionModel_base.layers[i].trainable = set_trainable\n",
        "\n",
        "xceptionModel = tf.keras.models.Sequential([\n",
        "                                            xceptionModel_base,\n",
        "                                            # Note the input shape is the desired size of the image 200x 200 with 3 bytes color\n",
        "    tf.keras.layers.GlobalAveragePooling2D(),\n",
        "    # Flatten the results to feed into a dense layer\n",
        "    tf.keras.layers.Flatten(),\n",
        "    # 128 neuron in the fully-connected layer\n",
        "    tf.keras.layers.Dense(128, activation='sigmoid'),\n",
        "    tf.keras.layers.Dense(128, activation='sigmoid'),\n",
        "    # 5 output neurons for 5 classes with the softmax activation\n",
        "    tf.keras.layers.Dense(2, activation='sigmoid')\n",
        "])\n",
        "\n",
        "xceptionModel.compile(loss='binary_crossentropy',\n",
        "              optimizer=tf.keras.optimizers.RMSprop(lr=2e-5),\n",
        "    metrics=[metrics.F1Score(2), \"acc\"])"
      ],
      "execution_count": 0,
      "outputs": []
    },
    {
      "cell_type": "code",
      "metadata": {
        "id": "DxeYUcP8m2Dp",
        "colab_type": "code",
        "outputId": "d9a345a5-4468-43c9-9c4d-1d4a3bfb49d6",
        "colab": {
          "base_uri": "https://localhost:8080/",
          "height": 255
        }
      },
      "source": [
        "from os import walk\n",
        "from datetime import datetime\n",
        "from sklearn.utils import class_weight\n",
        "\n",
        "checkpoint_path = \"/content/drive/My Drive/CS412/Checkpoints/xception4.ckpt\"\n",
        "checkpoint_path2 = \"/content/drive/My Drive/CS412/Checkpoints/xception4acc.ckpt\"\n",
        "\n",
        "# Create a callback that saves the model's weights\n",
        "cp_callback = tf.keras.callbacks.ModelCheckpoint(filepath=checkpoint_path,\n",
        "                                                 save_weights_only=True,\n",
        "                                                 save_best_only=True,\n",
        "                                                 verbose=1)\n",
        "\n",
        "cp_callbackAcc = tf.keras.callbacks.ModelCheckpoint(filepath=checkpoint_path2,\n",
        "                                                    monitor=\"val_acc\",\n",
        "                                                    mode=\"max\",\n",
        "                                                    save_weights_only=True,\n",
        "                                                    save_best_only=True)\n",
        "\n",
        "earlystop_callback = tf.keras.callbacks.EarlyStopping(\n",
        "  monitor='val_loss', min_delta=0.0001, mode=\"auto\",\n",
        "  patience=5, verbose=1)\n",
        "\n",
        "logdir = os.path.join(\"/content/drive/My Drive/CS412/final_logs\", \"Dense\" + datetime.now().strftime(\"%Y%m%d-%H%M%S\"))\n",
        "tensorboard_cb= tf.keras.callbacks.TensorBoard(logdir, histogram_freq=1)\n",
        "\n",
        "batch_size = 32\n",
        "testSplit = 0.2\n",
        "_cat1, _val1 = train_test_split(traincsv.groupby(\"Category\").get_group(\"1\").sample(900), test_size=testSplit)\n",
        "_cat2, _val2 = train_test_split(traincsv.groupby(\"Category\").get_group(\"2\").sample(900), test_size=testSplit)\n",
        "_cat3, _val3 = train_test_split(traincsv.groupby(\"Category\").get_group(\"3\").sample(900), test_size=testSplit)\n",
        "_cat4, _val4 = train_test_split(traincsv.groupby(\"Category\").get_group(\"4\"), test_size=testSplit)\n",
        "_cat5, _val5 = train_test_split(traincsv.groupby(\"Category\").get_group(\"5\").sample(900), test_size=testSplit)\n",
        "#cat4 = np.array_split(valData4.sample(frac=1), fold_no)\n",
        "\n",
        "_val4[\"Category\"] = \"0\"\n",
        "\n",
        "_cat1[\"Category\"] = \"1\"\n",
        "_cat2[\"Category\"] = \"1\"\n",
        "_cat3[\"Category\"] = \"1\"\n",
        "_cat5[\"Category\"] = \"1\"\n",
        "_val1[\"Category\"] = \"1\"\n",
        "_val1 = _val1.sample(50)\n",
        "_val2[\"Category\"] = \"1\"\n",
        "_val2 = _val2.sample(50)\n",
        "_val3[\"Category\"] = \"1\"\n",
        "_val3 = _val3.sample(50)\n",
        "_val5[\"Category\"] = \"1\"\n",
        "_val5 = _val5.sample(50)\n",
        "\n",
        "\n",
        "_trainData4 = pd.DataFrame({\"Id\": [\"\"], \"Category\": [\"\"]})\n",
        "for _, row in _cat4.iterrows():\n",
        "  if(len(row[\"Id\"]) < 4):\n",
        "    continue \n",
        "  f = []\n",
        "  for (dirpath, dirnames, filenames) in walk('/content/drive/My Drive/CS412/ImageAugmention/4/' + str(row[\"Id\"][:len(row[\"Id\"]) - 4])):\n",
        "    _trainData4 = _trainData4.append(pd.DataFrame({\"Id\": [\"DatasByFolder/4/\" + str(row[\"Id\"])], \"Category\": [\"0\"]}))\n",
        "    _trainData4 = _trainData4.append(pd.DataFrame({\"Id\": [\"DatasByFolder/4/\" + str(row[\"Id\"])], \"Category\": [\"0\"]}))\n",
        "    for filename in filenames:\n",
        "      _trainData4 = _trainData4.append(pd.DataFrame({\"Id\": [\"ImageAugmention/4/\" + str(row[\"Id\"][:len(row[\"Id\"]) - 4]) + \"/\" + filename], \"Category\": [\"0\"]}))\n",
        "    _trainData4 = _trainData4.append(pd.DataFrame({\"Id\": [\"DatasByFolder/4/\" + str(row[\"Id\"])], \"Category\": [\"0\"]}))\n",
        "    _trainData4 = _trainData4.append(pd.DataFrame({\"Id\": [\"DatasByFolder/4/\" + str(row[\"Id\"])], \"Category\": [\"0\"]}))\n",
        "    _trainData4 = _trainData4.append(pd.DataFrame({\"Id\": [\"DatasByFolder/4/\" + str(row[\"Id\"])], \"Category\": [\"0\"]}))\n",
        "    _trainData4 = _trainData4.append(pd.DataFrame({\"Id\": [\"DatasByFolder/4/\" + str(row[\"Id\"])], \"Category\": [\"0\"]}))\n",
        "    _trainData4 = _trainData4.append(pd.DataFrame({\"Id\": [\"DatasByFolder/4/\" + str(row[\"Id\"])], \"Category\": [\"0\"]}))\n",
        "_trainData4 = _trainData4[_trainData4.Category != \"\"]\n",
        "_trainData4.reset_index(inplace=True, drop=True)\n",
        "\n",
        "_val4.reset_index(inplace=True, drop=True)\n",
        "for index in range(0, len(_val4)):\n",
        "  _val4[\"Id\"][index] = \"DatasByFolder/4/\" + _val4[\"Id\"][index]\n",
        "_val4 = pd.concat([_val4, _val4, _val4,])\n",
        "_val4.reset_index(inplace=True, drop=True)\n",
        "\n",
        "histories = []\n",
        "\n",
        "_trainData = pd.concat([_cat1, _cat2, _cat3, _trainData4, _cat5])\n",
        "_trainData = _trainData.sample(frac=1).reset_index(drop=True)\n",
        "_valData = pd.concat([_val1, _val2, _val3, _val4, _val5])\n",
        "_valData = _valData.sample(frac=1).reset_index(drop=True)\n",
        "train_generator, validation_generator = dataGen(_trainData, _valData)\n",
        "class_weights = class_weight.compute_class_weight('balanced',\n",
        "                                                np.unique(train_generator.labels),\n",
        "                                                train_generator.labels)\n",
        "\n",
        "#_weights = {0: class_weights[0], 1: class_weights[1], 2: class_weights[2], 3: class_weights[3], 4: class_weights[4]}\n",
        "#print(_weights)\n",
        "n_epochs = 3\n",
        "history = xceptionModel.fit(\n",
        "        train_generator, \n",
        "        validation_data = validation_generator, \n",
        "        validation_steps = validation_generator.samples // batch_size,\n",
        "        steps_per_epoch=30,  \n",
        "        epochs=n_epochs,\n",
        "        verbose=1,\n",
        "        callbacks=[cp_callback, cp_callbackAcc, earlystop_callback])\n",
        "histories = np.append(histories, history)"
      ],
      "execution_count": 0,
      "outputs": [
        {
          "output_type": "stream",
          "text": [
            "Found 6290 validated image filenames belonging to 2 classes.\n",
            "Found 458 validated image filenames belonging to 2 classes.\n",
            "Epoch 1/3\n",
            "30/30 [==============================] - ETA: 0s - loss: 0.6678 - f1_score: 0.5812 - acc: 0.6010\n",
            "Epoch 00001: val_loss improved from inf to 0.64697, saving model to /content/drive/My Drive/CS412/Checkpoints/xception4.ckpt\n",
            "30/30 [==============================] - 43s 1s/step - loss: 0.6678 - f1_score: 0.5812 - acc: 0.6010 - val_loss: 0.6470 - val_f1_score: 0.6438 - val_acc: 0.6496\n",
            "Epoch 2/3\n",
            "30/30 [==============================] - ETA: 0s - loss: 0.5899 - f1_score: 0.7633 - acc: 0.7667\n",
            "Epoch 00002: val_loss improved from 0.64697 to 0.64307, saving model to /content/drive/My Drive/CS412/Checkpoints/xception4.ckpt\n",
            "30/30 [==============================] - 35s 1s/step - loss: 0.5899 - f1_score: 0.7633 - acc: 0.7667 - val_loss: 0.6431 - val_f1_score: 0.6248 - val_acc: 0.6339\n",
            "Epoch 3/3\n",
            "30/30 [==============================] - ETA: 0s - loss: 0.5711 - f1_score: 0.7689 - acc: 0.7780\n",
            "Epoch 00003: val_loss improved from 0.64307 to 0.56422, saving model to /content/drive/My Drive/CS412/Checkpoints/xception4.ckpt\n",
            "30/30 [==============================] - 35s 1s/step - loss: 0.5711 - f1_score: 0.7689 - acc: 0.7780 - val_loss: 0.5642 - val_f1_score: 0.7883 - val_acc: 0.7902\n"
          ],
          "name": "stdout"
        }
      ]
    },
    {
      "cell_type": "code",
      "metadata": {
        "id": "ctq-PTjKz6Qd",
        "colab_type": "code",
        "outputId": "756f9f61-dc52-416d-de6a-54531ab857fd",
        "colab": {
          "base_uri": "https://localhost:8080/",
          "height": 221
        }
      },
      "source": [
        "n_epochs = 3\n",
        "history = xceptionModel.fit(\n",
        "        train_generator, \n",
        "        validation_data = validation_generator, \n",
        "        validation_steps = validation_generator.samples // batch_size,\n",
        "        steps_per_epoch=30,  \n",
        "        epochs=n_epochs,\n",
        "        verbose=1,\n",
        "        callbacks=[cp_callback, cp_callbackAcc, earlystop_callback])"
      ],
      "execution_count": 0,
      "outputs": [
        {
          "output_type": "stream",
          "text": [
            "Epoch 1/3\n",
            "30/30 [==============================] - ETA: 0s - loss: 0.4943 - f1_score: 0.8018 - acc: 0.8062\n",
            "Epoch 00001: val_loss did not improve from 0.53227\n",
            "30/30 [==============================] - 29s 969ms/step - loss: 0.4943 - f1_score: 0.8018 - acc: 0.8062 - val_loss: 0.5337 - val_f1_score: 0.7807 - val_acc: 0.7812\n",
            "Epoch 2/3\n",
            "30/30 [==============================] - ETA: 0s - loss: 0.4900 - f1_score: 0.8093 - acc: 0.8135\n",
            "Epoch 00002: val_loss improved from 0.53227 to 0.50388, saving model to /content/drive/My Drive/CS412/Checkpoints/xception4.ckpt\n",
            "30/30 [==============================] - 30s 1s/step - loss: 0.4900 - f1_score: 0.8093 - acc: 0.8135 - val_loss: 0.5039 - val_f1_score: 0.7855 - val_acc: 0.7902\n",
            "Epoch 3/3\n",
            "30/30 [==============================] - ETA: 0s - loss: 0.4632 - f1_score: 0.8202 - acc: 0.8229\n",
            "Epoch 00003: val_loss did not improve from 0.50388\n",
            "30/30 [==============================] - 29s 976ms/step - loss: 0.4632 - f1_score: 0.8202 - acc: 0.8229 - val_loss: 0.6343 - val_f1_score: 0.6698 - val_acc: 0.6763\n"
          ],
          "name": "stdout"
        }
      ]
    },
    {
      "cell_type": "markdown",
      "metadata": {
        "id": "RzkP5QYxIci6",
        "colab_type": "text"
      },
      "source": [
        "Classification of "
      ]
    },
    {
      "cell_type": "code",
      "metadata": {
        "id": "qV-_Jj7kV0Ps",
        "colab_type": "code",
        "outputId": "fbd3933d-1ce1-4fdc-8530-fddb9d84fe08",
        "colab": {
          "base_uri": "https://localhost:8080/",
          "height": 309
        }
      },
      "source": [
        "classification_generator = validation_datagen.flow_from_dataframe(\n",
        "          _valData,  # This is the source directory for training images\n",
        "          directory=\"/content/drive/My Drive/CS412/\",\n",
        "          x_col=\"Id\",\n",
        "          y_col=\"Category\",\n",
        "          target_size=(256, 256),  # All images will be resized to 200 x 200\n",
        "          batch_size=32,\n",
        "          shuffle = False,\n",
        "          # Since we use categorical_crossentropy loss, we need categorical labels\n",
        "          class_mode='categorical')\n",
        "\n",
        "#denseNetModel.load_weights(checkpoint_path)\n",
        "from sklearn.metrics import classification_report, confusion_matrix\n",
        "Y_pred = xceptionModel.predict(classification_generator, classification_generator.samples // 32+1)\n",
        "y_pred = np.argmax(Y_pred, axis=1)\n",
        "print('Confusion Matrix')\n",
        "print(confusion_matrix(classification_generator.classes, y_pred))\n",
        "print('Classification Report')\n",
        "target_names = ['0', '1']\n",
        "print(classification_report(classification_generator.classes, y_pred, target_names=target_names))"
      ],
      "execution_count": 0,
      "outputs": [
        {
          "output_type": "stream",
          "text": [
            "Found 458 validated image filenames belonging to 2 classes.\n",
            "Confusion Matrix\n",
            "[[  0 258]\n",
            " [  0 200]]\n",
            "Classification Report\n",
            "              precision    recall  f1-score   support\n",
            "\n",
            "           0       0.00      0.00      0.00       258\n",
            "           1       0.44      1.00      0.61       200\n",
            "\n",
            "    accuracy                           0.44       458\n",
            "   macro avg       0.22      0.50      0.30       458\n",
            "weighted avg       0.19      0.44      0.27       458\n",
            "\n"
          ],
          "name": "stdout"
        },
        {
          "output_type": "stream",
          "text": [
            "/usr/local/lib/python3.6/dist-packages/sklearn/metrics/_classification.py:1272: UndefinedMetricWarning: Precision and F-score are ill-defined and being set to 0.0 in labels with no predicted samples. Use `zero_division` parameter to control this behavior.\n",
            "  _warn_prf(average, modifier, msg_start, len(result))\n"
          ],
          "name": "stderr"
        }
      ]
    },
    {
      "cell_type": "code",
      "metadata": {
        "id": "LR5Om5B-PafD",
        "colab_type": "code",
        "colab": {}
      },
      "source": [
        "xceptionModel.save(\"/content/drive/My Drive/CS412/Models/xception_model_test.h5\")"
      ],
      "execution_count": 0,
      "outputs": []
    },
    {
      "cell_type": "code",
      "metadata": {
        "id": "jQ7ryj4W25Dn",
        "colab_type": "code",
        "outputId": "9aa8aa1d-1b45-4ff2-8b49-45d876bf22ea",
        "colab": {
          "base_uri": "https://localhost:8080/",
          "height": 374
        }
      },
      "source": [
        "pred = np.argmax(dense.predict(test_generator, verbose=1, steps=5000/50), axis=-1)\n",
        "filenames = test_generator.filenames\n",
        "for i in range(len(filenames)):\n",
        "  filenames[i] = filenames[i][2:len(filenames[i])-4]\n",
        "res = pd.DataFrame({'Id': filenames,'Category': pred + 1})\n",
        "res.set_index(\"Id\", inplace=True)\n",
        "res.to_csv(\"/content/drive/My Drive/CS412/Pred2.csv\")"
      ],
      "execution_count": 0,
      "outputs": [
        {
          "output_type": "error",
          "ename": "KeyboardInterrupt",
          "evalue": "ignored",
          "traceback": [
            "\u001b[0;31m---------------------------------------------------------------------------\u001b[0m",
            "\u001b[0;31mKeyboardInterrupt\u001b[0m                         Traceback (most recent call last)",
            "\u001b[0;32m<ipython-input-27-1f47fe1b02f8>\u001b[0m in \u001b[0;36m<module>\u001b[0;34m()\u001b[0m\n\u001b[0;32m----> 1\u001b[0;31m \u001b[0mpred\u001b[0m \u001b[0;34m=\u001b[0m \u001b[0mnp\u001b[0m\u001b[0;34m.\u001b[0m\u001b[0margmax\u001b[0m\u001b[0;34m(\u001b[0m\u001b[0mdenseNetModel\u001b[0m\u001b[0;34m.\u001b[0m\u001b[0mpredict\u001b[0m\u001b[0;34m(\u001b[0m\u001b[0mtest_generator\u001b[0m\u001b[0;34m,\u001b[0m \u001b[0mverbose\u001b[0m\u001b[0;34m=\u001b[0m\u001b[0;36m1\u001b[0m\u001b[0;34m,\u001b[0m \u001b[0msteps\u001b[0m\u001b[0;34m=\u001b[0m\u001b[0;36m5000\u001b[0m\u001b[0;34m/\u001b[0m\u001b[0;36m50\u001b[0m\u001b[0;34m)\u001b[0m\u001b[0;34m,\u001b[0m \u001b[0maxis\u001b[0m\u001b[0;34m=\u001b[0m\u001b[0;34m-\u001b[0m\u001b[0;36m1\u001b[0m\u001b[0;34m)\u001b[0m\u001b[0;34m\u001b[0m\u001b[0;34m\u001b[0m\u001b[0m\n\u001b[0m\u001b[1;32m      2\u001b[0m \u001b[0mfilenames\u001b[0m \u001b[0;34m=\u001b[0m \u001b[0mtest_generator\u001b[0m\u001b[0;34m.\u001b[0m\u001b[0mfilenames\u001b[0m\u001b[0;34m\u001b[0m\u001b[0;34m\u001b[0m\u001b[0m\n\u001b[1;32m      3\u001b[0m \u001b[0;32mfor\u001b[0m \u001b[0mi\u001b[0m \u001b[0;32min\u001b[0m \u001b[0mrange\u001b[0m\u001b[0;34m(\u001b[0m\u001b[0mlen\u001b[0m\u001b[0;34m(\u001b[0m\u001b[0mfilenames\u001b[0m\u001b[0;34m)\u001b[0m\u001b[0;34m)\u001b[0m\u001b[0;34m:\u001b[0m\u001b[0;34m\u001b[0m\u001b[0;34m\u001b[0m\u001b[0m\n\u001b[1;32m      4\u001b[0m   \u001b[0mfilenames\u001b[0m\u001b[0;34m[\u001b[0m\u001b[0mi\u001b[0m\u001b[0;34m]\u001b[0m \u001b[0;34m=\u001b[0m \u001b[0mfilenames\u001b[0m\u001b[0;34m[\u001b[0m\u001b[0mi\u001b[0m\u001b[0;34m]\u001b[0m\u001b[0;34m[\u001b[0m\u001b[0;36m2\u001b[0m\u001b[0;34m:\u001b[0m\u001b[0mlen\u001b[0m\u001b[0;34m(\u001b[0m\u001b[0mfilenames\u001b[0m\u001b[0;34m[\u001b[0m\u001b[0mi\u001b[0m\u001b[0;34m]\u001b[0m\u001b[0;34m)\u001b[0m\u001b[0;34m-\u001b[0m\u001b[0;36m4\u001b[0m\u001b[0;34m]\u001b[0m\u001b[0;34m\u001b[0m\u001b[0;34m\u001b[0m\u001b[0m\n\u001b[1;32m      5\u001b[0m \u001b[0mres\u001b[0m \u001b[0;34m=\u001b[0m \u001b[0mpd\u001b[0m\u001b[0;34m.\u001b[0m\u001b[0mDataFrame\u001b[0m\u001b[0;34m(\u001b[0m\u001b[0;34m{\u001b[0m\u001b[0;34m'Id'\u001b[0m\u001b[0;34m:\u001b[0m \u001b[0mfilenames\u001b[0m\u001b[0;34m,\u001b[0m\u001b[0;34m'Category'\u001b[0m\u001b[0;34m:\u001b[0m \u001b[0mpred\u001b[0m \u001b[0;34m+\u001b[0m \u001b[0;36m1\u001b[0m\u001b[0;34m}\u001b[0m\u001b[0;34m)\u001b[0m\u001b[0;34m\u001b[0m\u001b[0;34m\u001b[0m\u001b[0m\n",
            "\u001b[0;32m/usr/local/lib/python3.6/dist-packages/tensorflow/python/keras/engine/training.py\u001b[0m in \u001b[0;36m_method_wrapper\u001b[0;34m(self, *args, **kwargs)\u001b[0m\n\u001b[1;32m     86\u001b[0m       raise ValueError('{} is not supported in multi-worker mode.'.format(\n\u001b[1;32m     87\u001b[0m           method.__name__))\n\u001b[0;32m---> 88\u001b[0;31m     \u001b[0;32mreturn\u001b[0m \u001b[0mmethod\u001b[0m\u001b[0;34m(\u001b[0m\u001b[0mself\u001b[0m\u001b[0;34m,\u001b[0m \u001b[0;34m*\u001b[0m\u001b[0margs\u001b[0m\u001b[0;34m,\u001b[0m \u001b[0;34m**\u001b[0m\u001b[0mkwargs\u001b[0m\u001b[0;34m)\u001b[0m\u001b[0;34m\u001b[0m\u001b[0;34m\u001b[0m\u001b[0m\n\u001b[0m\u001b[1;32m     89\u001b[0m \u001b[0;34m\u001b[0m\u001b[0m\n\u001b[1;32m     90\u001b[0m   return tf_decorator.make_decorator(\n",
            "\u001b[0;32m/usr/local/lib/python3.6/dist-packages/tensorflow/python/keras/engine/training.py\u001b[0m in \u001b[0;36mpredict\u001b[0;34m(self, x, batch_size, verbose, steps, callbacks, max_queue_size, workers, use_multiprocessing)\u001b[0m\n\u001b[1;32m   1247\u001b[0m           \u001b[0mworkers\u001b[0m\u001b[0;34m=\u001b[0m\u001b[0mworkers\u001b[0m\u001b[0;34m,\u001b[0m\u001b[0;34m\u001b[0m\u001b[0;34m\u001b[0m\u001b[0m\n\u001b[1;32m   1248\u001b[0m           \u001b[0muse_multiprocessing\u001b[0m\u001b[0;34m=\u001b[0m\u001b[0muse_multiprocessing\u001b[0m\u001b[0;34m,\u001b[0m\u001b[0;34m\u001b[0m\u001b[0;34m\u001b[0m\u001b[0m\n\u001b[0;32m-> 1249\u001b[0;31m           model=self)\n\u001b[0m\u001b[1;32m   1250\u001b[0m \u001b[0;34m\u001b[0m\u001b[0m\n\u001b[1;32m   1251\u001b[0m       \u001b[0;31m# Container that configures and calls `tf.keras.Callback`s.\u001b[0m\u001b[0;34m\u001b[0m\u001b[0;34m\u001b[0m\u001b[0;34m\u001b[0m\u001b[0m\n",
            "\u001b[0;32m/usr/local/lib/python3.6/dist-packages/tensorflow/python/keras/engine/data_adapter.py\u001b[0m in \u001b[0;36m__init__\u001b[0;34m(self, x, y, sample_weight, batch_size, steps_per_epoch, initial_epoch, epochs, shuffle, class_weight, max_queue_size, workers, use_multiprocessing, model)\u001b[0m\n\u001b[1;32m   1110\u001b[0m         \u001b[0muse_multiprocessing\u001b[0m\u001b[0;34m=\u001b[0m\u001b[0muse_multiprocessing\u001b[0m\u001b[0;34m,\u001b[0m\u001b[0;34m\u001b[0m\u001b[0;34m\u001b[0m\u001b[0m\n\u001b[1;32m   1111\u001b[0m         \u001b[0mdistribution_strategy\u001b[0m\u001b[0;34m=\u001b[0m\u001b[0mds_context\u001b[0m\u001b[0;34m.\u001b[0m\u001b[0mget_strategy\u001b[0m\u001b[0;34m(\u001b[0m\u001b[0;34m)\u001b[0m\u001b[0;34m,\u001b[0m\u001b[0;34m\u001b[0m\u001b[0;34m\u001b[0m\u001b[0m\n\u001b[0;32m-> 1112\u001b[0;31m         model=model)\n\u001b[0m\u001b[1;32m   1113\u001b[0m \u001b[0;34m\u001b[0m\u001b[0m\n\u001b[1;32m   1114\u001b[0m     \u001b[0mstrategy\u001b[0m \u001b[0;34m=\u001b[0m \u001b[0mds_context\u001b[0m\u001b[0;34m.\u001b[0m\u001b[0mget_strategy\u001b[0m\u001b[0;34m(\u001b[0m\u001b[0;34m)\u001b[0m\u001b[0;34m\u001b[0m\u001b[0;34m\u001b[0m\u001b[0m\n",
            "\u001b[0;32m/usr/local/lib/python3.6/dist-packages/tensorflow/python/keras/engine/data_adapter.py\u001b[0m in \u001b[0;36m__init__\u001b[0;34m(self, x, y, sample_weights, shuffle, workers, use_multiprocessing, max_queue_size, model, **kwargs)\u001b[0m\n\u001b[1;32m    906\u001b[0m         \u001b[0mmax_queue_size\u001b[0m\u001b[0;34m=\u001b[0m\u001b[0mmax_queue_size\u001b[0m\u001b[0;34m,\u001b[0m\u001b[0;34m\u001b[0m\u001b[0;34m\u001b[0m\u001b[0m\n\u001b[1;32m    907\u001b[0m         \u001b[0mmodel\u001b[0m\u001b[0;34m=\u001b[0m\u001b[0mmodel\u001b[0m\u001b[0;34m,\u001b[0m\u001b[0;34m\u001b[0m\u001b[0;34m\u001b[0m\u001b[0m\n\u001b[0;32m--> 908\u001b[0;31m         **kwargs)\n\u001b[0m\u001b[1;32m    909\u001b[0m \u001b[0;34m\u001b[0m\u001b[0m\n\u001b[1;32m    910\u001b[0m   \u001b[0;34m@\u001b[0m\u001b[0mstaticmethod\u001b[0m\u001b[0;34m\u001b[0m\u001b[0;34m\u001b[0m\u001b[0m\n",
            "\u001b[0;32m/usr/local/lib/python3.6/dist-packages/tensorflow/python/keras/engine/data_adapter.py\u001b[0m in \u001b[0;36m__init__\u001b[0;34m(self, x, y, sample_weights, workers, use_multiprocessing, max_queue_size, model, **kwargs)\u001b[0m\n\u001b[1;32m    770\u001b[0m     \u001b[0;31m# Since we have to know the dtype of the python generator when we build the\u001b[0m\u001b[0;34m\u001b[0m\u001b[0;34m\u001b[0m\u001b[0;34m\u001b[0m\u001b[0m\n\u001b[1;32m    771\u001b[0m     \u001b[0;31m# dataset, we have to look at a batch to infer the structure.\u001b[0m\u001b[0;34m\u001b[0m\u001b[0;34m\u001b[0m\u001b[0;34m\u001b[0m\u001b[0m\n\u001b[0;32m--> 772\u001b[0;31m     \u001b[0mpeek\u001b[0m\u001b[0;34m,\u001b[0m \u001b[0mx\u001b[0m \u001b[0;34m=\u001b[0m \u001b[0mself\u001b[0m\u001b[0;34m.\u001b[0m\u001b[0m_peek_and_restore\u001b[0m\u001b[0;34m(\u001b[0m\u001b[0mx\u001b[0m\u001b[0;34m)\u001b[0m\u001b[0;34m\u001b[0m\u001b[0;34m\u001b[0m\u001b[0m\n\u001b[0m\u001b[1;32m    773\u001b[0m     \u001b[0massert_not_namedtuple\u001b[0m\u001b[0;34m(\u001b[0m\u001b[0mpeek\u001b[0m\u001b[0;34m)\u001b[0m\u001b[0;34m\u001b[0m\u001b[0;34m\u001b[0m\u001b[0m\n\u001b[1;32m    774\u001b[0m     \u001b[0mpeek\u001b[0m \u001b[0;34m=\u001b[0m \u001b[0mself\u001b[0m\u001b[0;34m.\u001b[0m\u001b[0m_standardize_batch\u001b[0m\u001b[0;34m(\u001b[0m\u001b[0mpeek\u001b[0m\u001b[0;34m)\u001b[0m\u001b[0;34m\u001b[0m\u001b[0;34m\u001b[0m\u001b[0m\n",
            "\u001b[0;32m/usr/local/lib/python3.6/dist-packages/tensorflow/python/keras/engine/data_adapter.py\u001b[0m in \u001b[0;36m_peek_and_restore\u001b[0;34m(x)\u001b[0m\n\u001b[1;32m    910\u001b[0m   \u001b[0;34m@\u001b[0m\u001b[0mstaticmethod\u001b[0m\u001b[0;34m\u001b[0m\u001b[0;34m\u001b[0m\u001b[0m\n\u001b[1;32m    911\u001b[0m   \u001b[0;32mdef\u001b[0m \u001b[0m_peek_and_restore\u001b[0m\u001b[0;34m(\u001b[0m\u001b[0mx\u001b[0m\u001b[0;34m)\u001b[0m\u001b[0;34m:\u001b[0m\u001b[0;34m\u001b[0m\u001b[0;34m\u001b[0m\u001b[0m\n\u001b[0;32m--> 912\u001b[0;31m     \u001b[0;32mreturn\u001b[0m \u001b[0mx\u001b[0m\u001b[0;34m[\u001b[0m\u001b[0;36m0\u001b[0m\u001b[0;34m]\u001b[0m\u001b[0;34m,\u001b[0m \u001b[0mx\u001b[0m\u001b[0;34m\u001b[0m\u001b[0;34m\u001b[0m\u001b[0m\n\u001b[0m\u001b[1;32m    913\u001b[0m \u001b[0;34m\u001b[0m\u001b[0m\n\u001b[1;32m    914\u001b[0m   def _handle_multiprocessing(self, x, workers, use_multiprocessing,\n",
            "\u001b[0;32m/usr/local/lib/python3.6/dist-packages/keras_preprocessing/image/iterator.py\u001b[0m in \u001b[0;36m__getitem__\u001b[0;34m(self, idx)\u001b[0m\n\u001b[1;32m     63\u001b[0m         index_array = self.index_array[self.batch_size * idx:\n\u001b[1;32m     64\u001b[0m                                        self.batch_size * (idx + 1)]\n\u001b[0;32m---> 65\u001b[0;31m         \u001b[0;32mreturn\u001b[0m \u001b[0mself\u001b[0m\u001b[0;34m.\u001b[0m\u001b[0m_get_batches_of_transformed_samples\u001b[0m\u001b[0;34m(\u001b[0m\u001b[0mindex_array\u001b[0m\u001b[0;34m)\u001b[0m\u001b[0;34m\u001b[0m\u001b[0;34m\u001b[0m\u001b[0m\n\u001b[0m\u001b[1;32m     66\u001b[0m \u001b[0;34m\u001b[0m\u001b[0m\n\u001b[1;32m     67\u001b[0m     \u001b[0;32mdef\u001b[0m \u001b[0m__len__\u001b[0m\u001b[0;34m(\u001b[0m\u001b[0mself\u001b[0m\u001b[0;34m)\u001b[0m\u001b[0;34m:\u001b[0m\u001b[0;34m\u001b[0m\u001b[0;34m\u001b[0m\u001b[0m\n",
            "\u001b[0;32m/usr/local/lib/python3.6/dist-packages/keras_preprocessing/image/iterator.py\u001b[0m in \u001b[0;36m_get_batches_of_transformed_samples\u001b[0;34m(self, index_array)\u001b[0m\n\u001b[1;32m    228\u001b[0m                            \u001b[0mcolor_mode\u001b[0m\u001b[0;34m=\u001b[0m\u001b[0mself\u001b[0m\u001b[0;34m.\u001b[0m\u001b[0mcolor_mode\u001b[0m\u001b[0;34m,\u001b[0m\u001b[0;34m\u001b[0m\u001b[0;34m\u001b[0m\u001b[0m\n\u001b[1;32m    229\u001b[0m                            \u001b[0mtarget_size\u001b[0m\u001b[0;34m=\u001b[0m\u001b[0mself\u001b[0m\u001b[0;34m.\u001b[0m\u001b[0mtarget_size\u001b[0m\u001b[0;34m,\u001b[0m\u001b[0;34m\u001b[0m\u001b[0;34m\u001b[0m\u001b[0m\n\u001b[0;32m--> 230\u001b[0;31m                            interpolation=self.interpolation)\n\u001b[0m\u001b[1;32m    231\u001b[0m             \u001b[0mx\u001b[0m \u001b[0;34m=\u001b[0m \u001b[0mimg_to_array\u001b[0m\u001b[0;34m(\u001b[0m\u001b[0mimg\u001b[0m\u001b[0;34m,\u001b[0m \u001b[0mdata_format\u001b[0m\u001b[0;34m=\u001b[0m\u001b[0mself\u001b[0m\u001b[0;34m.\u001b[0m\u001b[0mdata_format\u001b[0m\u001b[0;34m)\u001b[0m\u001b[0;34m\u001b[0m\u001b[0;34m\u001b[0m\u001b[0m\n\u001b[1;32m    232\u001b[0m             \u001b[0;31m# Pillow images should be closed after `load_img`,\u001b[0m\u001b[0;34m\u001b[0m\u001b[0;34m\u001b[0m\u001b[0;34m\u001b[0m\u001b[0m\n",
            "\u001b[0;32m/usr/local/lib/python3.6/dist-packages/keras_preprocessing/image/utils.py\u001b[0m in \u001b[0;36mload_img\u001b[0;34m(path, grayscale, color_mode, target_size, interpolation)\u001b[0m\n\u001b[1;32m    112\u001b[0m                           'The use of `load_img` requires PIL.')\n\u001b[1;32m    113\u001b[0m     \u001b[0;32mwith\u001b[0m \u001b[0mopen\u001b[0m\u001b[0;34m(\u001b[0m\u001b[0mpath\u001b[0m\u001b[0;34m,\u001b[0m \u001b[0;34m'rb'\u001b[0m\u001b[0;34m)\u001b[0m \u001b[0;32mas\u001b[0m \u001b[0mf\u001b[0m\u001b[0;34m:\u001b[0m\u001b[0;34m\u001b[0m\u001b[0;34m\u001b[0m\u001b[0m\n\u001b[0;32m--> 114\u001b[0;31m         \u001b[0mimg\u001b[0m \u001b[0;34m=\u001b[0m \u001b[0mpil_image\u001b[0m\u001b[0;34m.\u001b[0m\u001b[0mopen\u001b[0m\u001b[0;34m(\u001b[0m\u001b[0mio\u001b[0m\u001b[0;34m.\u001b[0m\u001b[0mBytesIO\u001b[0m\u001b[0;34m(\u001b[0m\u001b[0mf\u001b[0m\u001b[0;34m.\u001b[0m\u001b[0mread\u001b[0m\u001b[0;34m(\u001b[0m\u001b[0;34m)\u001b[0m\u001b[0;34m)\u001b[0m\u001b[0;34m)\u001b[0m\u001b[0;34m\u001b[0m\u001b[0;34m\u001b[0m\u001b[0m\n\u001b[0m\u001b[1;32m    115\u001b[0m         \u001b[0;32mif\u001b[0m \u001b[0mcolor_mode\u001b[0m \u001b[0;34m==\u001b[0m \u001b[0;34m'grayscale'\u001b[0m\u001b[0;34m:\u001b[0m\u001b[0;34m\u001b[0m\u001b[0;34m\u001b[0m\u001b[0m\n\u001b[1;32m    116\u001b[0m             \u001b[0;31m# if image is not already an 8-bit, 16-bit or 32-bit grayscale image\u001b[0m\u001b[0;34m\u001b[0m\u001b[0;34m\u001b[0m\u001b[0;34m\u001b[0m\u001b[0m\n",
            "\u001b[0;31mKeyboardInterrupt\u001b[0m: "
          ]
        }
      ]
    },
    {
      "cell_type": "markdown",
      "metadata": {
        "id": "L6R_syo1IFBC",
        "colab_type": "text"
      },
      "source": [
        "#Results From K-Fold"
      ]
    },
    {
      "cell_type": "code",
      "metadata": {
        "id": "2vfa84t4IBPg",
        "colab_type": "code",
        "colab": {}
      },
      "source": [
        "acc = []\n",
        "loss = []\n",
        "f1 = []\n",
        "val_acc = []\n",
        "val_loss = []\n",
        "val_f1 = []\n",
        "for history in histories:\n",
        "  acc = np.append(acc, history.history[\"acc\"])\n",
        "  val_acc = np.append(val_acc, history.history[\"val_acc\"])\n",
        "  loss = np.append(loss, history.history[\"loss\"])\n",
        "  val_loss = np.append(val_loss, history.history[\"val_loss\"])\n",
        "  f1 = np.append(f1, history.history[\"f1_score\"])\n",
        "  val_f1 = np.append(val_f1, history.history[\"val_f1_score\"])"
      ],
      "execution_count": 0,
      "outputs": []
    },
    {
      "cell_type": "markdown",
      "metadata": {
        "id": "gYwB1qcIIJee",
        "colab_type": "text"
      },
      "source": [
        "#Plot Results"
      ]
    },
    {
      "cell_type": "markdown",
      "metadata": {
        "id": "6jG-cjrgI5RU",
        "colab_type": "text"
      },
      "source": [
        "This graphs show current binary classifier for 4 - or not. It is an old iteration and we could not realy worked it at further iterations. Due to dead relu problems"
      ]
    },
    {
      "cell_type": "code",
      "metadata": {
        "id": "6y5duuzE-V8c",
        "colab_type": "code",
        "colab": {}
      },
      "source": [
        "for i in range(len(f1)):\n",
        "  f1[i] = np.average(f1[i])\n",
        "  val_f1[i] = np.average(val_f1[i])"
      ],
      "execution_count": 0,
      "outputs": []
    },
    {
      "cell_type": "code",
      "metadata": {
        "id": "jZKLKctS51Jz",
        "colab_type": "code",
        "outputId": "0f86c6ce-a9e2-428e-c87e-52d456bdcd7b",
        "colab": {
          "base_uri": "https://localhost:8080/",
          "height": 851
        }
      },
      "source": [
        "from matplotlib import pyplot\n",
        "\n",
        "# Plot training & validation accuracy values\n",
        "pyplot.plot(acc)\n",
        "pyplot.plot(val_acc)\n",
        "pyplot.title('Model accuracy')\n",
        "pyplot.ylabel('Accuracy')\n",
        "pyplot.xlabel('Epoch')\n",
        "pyplot.legend(['Train', 'Validation'], loc='upper left')\n",
        "pyplot.show()\n",
        "\n",
        "# Plot training & validation loss values\n",
        "pyplot.plot(loss)\n",
        "pyplot.plot(val_loss)\n",
        "pyplot.title('Model loss')\n",
        "pyplot.ylabel('Loss')\n",
        "pyplot.xlabel('Epoch')\n",
        "pyplot.legend(['Train', 'Validation'], loc='upper left')\n",
        "pyplot.show()\n",
        "\n",
        "# Plot training & validation loss values\n",
        "pyplot.plot(f1)\n",
        "pyplot.plot(val_f1)\n",
        "pyplot.title('Model F1 Score')\n",
        "pyplot.ylabel('F1 Score')\n",
        "pyplot.xlabel('Epoch')\n",
        "pyplot.legend(['Train', 'Validation'], loc='upper left')\n",
        "pyplot.show()"
      ],
      "execution_count": 0,
      "outputs": [
        {
          "output_type": "display_data",
          "data": {
            "image/png": "[encoded data removed]",
            "text/plain": [
              "<Figure size 432x288 with 1 Axes>"
            ]
          },
          "metadata": {
            "tags": [],
            "needs_background": "light"
          }
        },
        {
          "output_type": "display_data",
          "data": {
            "image/png": "[encoded data removed]",
            "text/plain": [
              "<Figure size 432x288 with 1 Axes>"
            ]
          },
          "metadata": {
            "tags": [],
            "needs_background": "light"
          }
        },
        {
          "output_type": "display_data",
          "data": {
            "image/png": "[encoded data removed]",
            "text/plain": [
              "<Figure size 432x288 with 1 Axes>"
            ]
          },
          "metadata": {
            "tags": [],
            "needs_background": "light"
          }
        }
      ]
    },
    {
      "cell_type": "markdown",
      "metadata": {
        "id": "Nah4vJLFITm4",
        "colab_type": "text"
      },
      "source": [
        "#Handmade Model"
      ]
    },
    {
      "cell_type": "markdown",
      "metadata": {
        "id": "TH3S2dWaJLsE",
        "colab_type": "text"
      },
      "source": [
        "This is first model of we used"
      ]
    },
    {
      "cell_type": "code",
      "metadata": {
        "id": "lF2sA1tZhbnQ",
        "colab_type": "code",
        "colab": {}
      },
      "source": [
        "model = tf.keras.models.Sequential([\n",
        "    # Note the input shape is the desired size of the image 128x 128 with 3 bytes color\n",
        "    # The first convolution\n",
        "    tf.keras.layers.Conv2D(filters=16, strides=(2,2), activation='relu', input_shape=(256, 256, 3), kernel_size=5),\n",
        "    tf.keras.layers.MaxPooling2D(2, 2),\n",
        "    # The second convolution\n",
        "    tf.keras.layers.Conv2D(32, (2,2), activation='relu', kernel_size=3),\n",
        "    tf.keras.layers.MaxPooling2D(2,2),\n",
        "    tf.keras.layers.Dropout(0.3),\n",
        "    # The third convolution\n",
        "    tf.keras.layers.Conv2D(32, strides=2, activation='relu', kernel_size=4),\n",
        "    tf.keras.layers.MaxPooling2D(2,2),\n",
        "    # The fourth convolution\n",
        "    tf.keras.layers.Conv2D(64, strides=2, activation='relu', kernel_size=3),\n",
        "    tf.keras.layers.MaxPooling2D(2,2),\n",
        "    # The fifth convolution\n",
        "    tf.keras.layers.Conv2D(64, (2,2), activation='relu'),\n",
        "    tf.keras.layers.MaxPooling2D(2,2),\n",
        "    # Flatten the results to feed into a dense layer\n",
        "    tf.keras.layers.Flatten(),\n",
        "    # 128 neuron in the fully-connected layer\n",
        "    tf.keras.layers.Dense(64, activation='relu'),\n",
        "    tf.keras.layers.Dense(32, activation='relu'),\n",
        "    # 5 output neurons for 5 classes with the softmax activation\n",
        "    tf.keras.layers.Dense(5, activation='softmax')\n",
        "])\n",
        "\n",
        "model.compile(loss=\"categorical_crossentropy\",\n",
        "    optimizer=tf.keras.optimizers.Adam(),\n",
        "    metrics=[metrics.F1Score(5), \"acc\"])\n",
        "\n",
        "total_sample=train_generator.n"
      ],
      "execution_count": 0,
      "outputs": []
    },
    {
      "cell_type": "code",
      "metadata": {
        "id": "hamnDrIAXHX7",
        "colab_type": "code",
        "colab": {}
      },
      "source": [
        "from sklearn.utils import class_weight\n",
        "class_weights = class_weight.compute_class_weight('balanced',\n",
        "                                                 np.unique(train_generator.classes),\n",
        "                                                 train_generator.classes)\n",
        "_weights = {0: class_weights[0], 1: class_weights[1], 2: class_weights[2], 3: class_weights[3], 4: class_weights[4]}"
      ],
      "execution_count": 0,
      "outputs": []
    },
    {
      "cell_type": "code",
      "metadata": {
        "id": "E0Y84yJ3ltap",
        "colab_type": "code",
        "outputId": "467820d1-969c-4aa8-c4e8-f872ee72aa03",
        "colab": {
          "base_uri": "https://localhost:8080/",
          "height": 34
        }
      },
      "source": [
        "class_weights"
      ],
      "execution_count": 0,
      "outputs": [
        {
          "output_type": "execute_result",
          "data": {
            "text/plain": [
              "array([0.74963131, 0.60045434, 1.03817753, 3.87565982, 1.2831068 ])"
            ]
          },
          "metadata": {
            "tags": []
          },
          "execution_count": 32
        }
      ]
    },
    {
      "cell_type": "markdown",
      "metadata": {
        "id": "9ab_S-l5JQ42",
        "colab_type": "text"
      },
      "source": [
        "This is an old iteration which has very low results. At that point we felt the need of transfer learning"
      ]
    },
    {
      "cell_type": "code",
      "metadata": {
        "id": "P9Py1VAmgZkK",
        "colab_type": "code",
        "outputId": "e76796ad-7f25-4654-c53c-31549450ed7e",
        "colab": {
          "base_uri": "https://localhost:8080/",
          "height": 697
        }
      },
      "source": [
        "n_epochs = 20\n",
        "history = model.fit(\n",
        "        train_generator, \n",
        "        validation_data = validation_generator, \n",
        "        validation_steps = validation_generator.samples // batch_size,\n",
        "        steps_per_epoch=int(total_sample/batch_size),  \n",
        "        epochs=n_epochs,\n",
        "        class_weight={0: 0.74963131, 1: 0.60045434, 2: 1.03817753, 3: 3.87565982, 4: 1.2831068},\n",
        "        verbose=1)"
      ],
      "execution_count": 0,
      "outputs": [
        {
          "output_type": "stream",
          "text": [
            "Epoch 1/20\n",
            "50/50 [==============================] - 757s 15s/step - loss: 1.5559 - f1_score: 0.1752 - acc: 0.2744 - val_loss: 1.3635 - val_f1_score: 0.1923 - val_acc: 0.3359\n",
            "Epoch 2/20\n",
            "50/50 [==============================] - 553s 11s/step - loss: 1.5065 - f1_score: 0.2136 - acc: 0.3019 - val_loss: 1.4178 - val_f1_score: 0.1884 - val_acc: 0.2812\n",
            "Epoch 3/20\n",
            "50/50 [==============================] - 432s 9s/step - loss: 1.4562 - f1_score: 0.2219 - acc: 0.2988 - val_loss: 1.3759 - val_f1_score: 0.2590 - val_acc: 0.4036\n",
            "Epoch 4/20\n",
            "50/50 [==============================] - 320s 6s/step - loss: 1.4415 - f1_score: 0.2880 - acc: 0.3806 - val_loss: 1.3651 - val_f1_score: 0.2342 - val_acc: 0.3255\n",
            "Epoch 5/20\n",
            "50/50 [==============================] - 247s 5s/step - loss: 1.3921 - f1_score: 0.2791 - acc: 0.3781 - val_loss: 1.2926 - val_f1_score: 0.2896 - val_acc: 0.4583\n",
            "Epoch 6/20\n",
            "50/50 [==============================] - 189s 4s/step - loss: 1.4680 - f1_score: 0.2429 - acc: 0.3088 - val_loss: 1.3506 - val_f1_score: 0.3100 - val_acc: 0.4193\n",
            "Epoch 7/20\n",
            "50/50 [==============================] - 144s 3s/step - loss: 1.4705 - f1_score: 0.3123 - acc: 0.4087 - val_loss: 1.3742 - val_f1_score: 0.2463 - val_acc: 0.3411\n",
            "Epoch 8/20\n",
            "50/50 [==============================] - 125s 3s/step - loss: 1.4090 - f1_score: 0.3143 - acc: 0.3894 - val_loss: 1.4799 - val_f1_score: 0.2834 - val_acc: 0.3359\n",
            "Epoch 9/20\n",
            "50/50 [==============================] - 98s 2s/step - loss: 1.3494 - f1_score: 0.3161 - acc: 0.4050 - val_loss: 1.3245 - val_f1_score: 0.2803 - val_acc: 0.3958\n",
            "Epoch 10/20\n",
            "50/50 [==============================] - 86s 2s/step - loss: 1.3775 - f1_score: 0.3557 - acc: 0.4406 - val_loss: 1.2850 - val_f1_score: 0.2975 - val_acc: 0.3906\n",
            "Epoch 11/20\n",
            "50/50 [==============================] - 75s 2s/step - loss: 1.3039 - f1_score: 0.3203 - acc: 0.4142 - val_loss: 1.2698 - val_f1_score: 0.3264 - val_acc: 0.4062\n",
            "Epoch 12/20\n",
            "50/50 [==============================] - 103s 2s/step - loss: 1.2630 - f1_score: 0.3669 - acc: 0.4712 - val_loss: 1.2574 - val_f1_score: 0.3550 - val_acc: 0.4167\n",
            "Epoch 13/20\n",
            "50/50 [==============================] - 62s 1s/step - loss: 1.3229 - f1_score: 0.3670 - acc: 0.4319 - val_loss: 1.2032 - val_f1_score: 0.3537 - val_acc: 0.4375\n",
            "Epoch 14/20\n",
            "50/50 [==============================] - 58s 1s/step - loss: 1.3206 - f1_score: 0.3603 - acc: 0.4338 - val_loss: 1.2922 - val_f1_score: 0.3462 - val_acc: 0.4089\n",
            "Epoch 15/20\n",
            "50/50 [==============================] - 55s 1s/step - loss: 1.2765 - f1_score: 0.3740 - acc: 0.4625 - val_loss: 1.2811 - val_f1_score: 0.3246 - val_acc: 0.4245\n",
            "Epoch 16/20\n",
            "50/50 [==============================] - 50s 1s/step - loss: 1.2518 - f1_score: 0.3821 - acc: 0.4769 - val_loss: 1.3308 - val_f1_score: 0.3345 - val_acc: 0.4193\n",
            "Epoch 17/20\n",
            "50/50 [==============================] - 50s 992ms/step - loss: 1.2494 - f1_score: 0.3658 - acc: 0.4594 - val_loss: 1.2145 - val_f1_score: 0.3369 - val_acc: 0.4167\n",
            "Epoch 18/20\n",
            "50/50 [==============================] - 47s 937ms/step - loss: 1.2440 - f1_score: 0.3749 - acc: 0.4462 - val_loss: 1.2441 - val_f1_score: 0.3946 - val_acc: 0.4661\n",
            "Epoch 19/20\n",
            "50/50 [==============================] - 47s 938ms/step - loss: 1.2298 - f1_score: 0.4150 - acc: 0.5069 - val_loss: 1.2041 - val_f1_score: 0.4203 - val_acc: 0.5078\n",
            "Epoch 20/20\n",
            "50/50 [==============================] - 48s 951ms/step - loss: 1.2636 - f1_score: 0.4002 - acc: 0.4700 - val_loss: 1.2622 - val_f1_score: 0.3531 - val_acc: 0.4479\n"
          ],
          "name": "stdout"
        }
      ]
    },
    {
      "cell_type": "markdown",
      "metadata": {
        "id": "RO321EoiJfIj",
        "colab_type": "text"
      },
      "source": [
        "This code gives test scores"
      ]
    },
    {
      "cell_type": "code",
      "metadata": {
        "id": "kkcccVSY8wKI",
        "colab_type": "code",
        "colab": {}
      },
      "source": [
        "pred = np.argmax(model.predict(test_generator, verbose=1, steps=5000/50), axis=-1)"
      ],
      "execution_count": 0,
      "outputs": []
    },
    {
      "cell_type": "code",
      "metadata": {
        "id": "TKQbkdK5_emS",
        "colab_type": "code",
        "colab": {}
      },
      "source": [
        "filenames = test_generator.filenames\n",
        "for i in range(len(filenames)):\n",
        "  filenames[i] = filenames[i][2:len(filenames[i])-4]"
      ],
      "execution_count": 0,
      "outputs": []
    },
    {
      "cell_type": "code",
      "metadata": {
        "id": "Ty8ZtU1SJy0Q",
        "colab_type": "code",
        "outputId": "70bb5970-2686-478e-dd4d-8bb0dc795fed",
        "colab": {
          "base_uri": "https://localhost:8080/",
          "height": 163
        }
      },
      "source": [
        "pd.DataFrame({'Id': test_generator.filenames,'Category': pred + 1}, index_col = \"Id\").to_csv(\"/content/drive/My Drive/CS412/Pred.csv\")"
      ],
      "execution_count": 0,
      "outputs": [
        {
          "output_type": "error",
          "ename": "TypeError",
          "evalue": "ignored",
          "traceback": [
            "\u001b[0;31m---------------------------------------------------------------------------\u001b[0m",
            "\u001b[0;31mTypeError\u001b[0m                                 Traceback (most recent call last)",
            "\u001b[0;32m<ipython-input-33-a40c249eb0db>\u001b[0m in \u001b[0;36m<module>\u001b[0;34m()\u001b[0m\n\u001b[0;32m----> 1\u001b[0;31m \u001b[0mpd\u001b[0m\u001b[0;34m.\u001b[0m\u001b[0mDataFrame\u001b[0m\u001b[0;34m(\u001b[0m\u001b[0;34m{\u001b[0m\u001b[0;34m'Id'\u001b[0m\u001b[0;34m:\u001b[0m \u001b[0mtest_generator\u001b[0m\u001b[0;34m.\u001b[0m\u001b[0mfilenames\u001b[0m\u001b[0;34m,\u001b[0m\u001b[0;34m'Category'\u001b[0m\u001b[0;34m:\u001b[0m \u001b[0mpred\u001b[0m \u001b[0;34m+\u001b[0m \u001b[0;36m1\u001b[0m\u001b[0;34m}\u001b[0m\u001b[0;34m,\u001b[0m \u001b[0mindex_col\u001b[0m \u001b[0;34m=\u001b[0m \u001b[0;34m\"Id\"\u001b[0m\u001b[0;34m)\u001b[0m\u001b[0;34m.\u001b[0m\u001b[0mto_csv\u001b[0m\u001b[0;34m(\u001b[0m\u001b[0;34m\"/content/drive/My Drive/CS412/Pred.csv\"\u001b[0m\u001b[0;34m)\u001b[0m\u001b[0;34m\u001b[0m\u001b[0;34m\u001b[0m\u001b[0m\n\u001b[0m",
            "\u001b[0;31mTypeError\u001b[0m: __init__() got an unexpected keyword argument 'index_col'"
          ]
        }
      ]
    },
    {
      "cell_type": "markdown",
      "metadata": {
        "id": "iWrwtYqcz-n9",
        "colab_type": "text"
      },
      "source": [
        "#Ensemble"
      ]
    },
    {
      "cell_type": "markdown",
      "metadata": {
        "id": "J3cKPDNiGhCM",
        "colab_type": "text"
      },
      "source": [
        "Hard Voting"
      ]
    },
    {
      "cell_type": "code",
      "metadata": {
        "id": "DWl7IKzkGSno",
        "colab_type": "code",
        "colab": {}
      },
      "source": [
        "labels = []\n",
        "labels.append(y1)\n",
        "labels.append(y2)\n",
        "labels.append(y3)\n",
        "\n",
        "import scipy\n",
        "# Ensemble with voting\n",
        "labels = np.array(labels)\n",
        "#labels = np.transpose(labels, (1, 0))"
      ],
      "execution_count": 0,
      "outputs": []
    },
    {
      "cell_type": "code",
      "metadata": {
        "id": "kXnDcNSOGgTy",
        "colab_type": "code",
        "colab": {}
      },
      "source": [
        "labels = scipy.stats.mode(labels)[0]"
      ],
      "execution_count": 0,
      "outputs": []
    },
    {
      "cell_type": "code",
      "metadata": {
        "id": "JDaN9IF8G2gV",
        "colab_type": "code",
        "colab": {}
      },
      "source": [
        "labels = np.squeeze(labels)"
      ],
      "execution_count": 0,
      "outputs": []
    },
    {
      "cell_type": "code",
      "metadata": {
        "id": "0JaIEIAaFMaO",
        "colab_type": "code",
        "colab": {}
      },
      "source": [
        "filenames = test_generator.filenames\n",
        "for i in range(len(filenames)):\n",
        "  filenames[i] = filenames[i][2:len(filenames[i])-4]\n",
        "res = pd.DataFrame({'Id': filenames,'Category': labels + 1})\n",
        "res.set_index(\"Id\", inplace=True)\n",
        "res.to_csv(\"/content/drive/My Drive/CS412/Pred2.csv\")"
      ],
      "execution_count": 0,
      "outputs": []
    },
    {
      "cell_type": "markdown",
      "metadata": {
        "id": "fGLo5bPRGnuQ",
        "colab_type": "text"
      },
      "source": [
        "Soft Voting"
      ]
    },
    {
      "cell_type": "code",
      "metadata": {
        "id": "1z7bgeCRl7Gw",
        "colab_type": "code",
        "colab": {}
      },
      "source": [
        "MODELS = [tf.keras.models.load_model(\"/content/drive/My Drive/CS412/Models/resnetInception6820_model.h5\"), \n",
        "          tf.keras.models.load_model(\"/content/drive/My Drive/CS412/Models/densenet6889_model.h5\"), \n",
        "          tf.keras.models.load_model(\"/content/drive/My Drive/CS412/Models/xception_model_test.h5\")]"
      ],
      "execution_count": 0,
      "outputs": []
    },
    {
      "cell_type": "code",
      "metadata": {
        "id": "HbMFOLh3JmAK",
        "colab_type": "code",
        "outputId": "828febd4-59d3-4196-d302-5762f66aecc7",
        "colab": {
          "base_uri": "https://localhost:8080/",
          "height": 391
        }
      },
      "source": [
        "MODELS[0].summary()"
      ],
      "execution_count": 0,
      "outputs": [
        {
          "output_type": "stream",
          "text": [
            "Model: \"sequential_2\"\n",
            "_________________________________________________________________\n",
            "Layer (type)                 Output Shape              Param #   \n",
            "=================================================================\n",
            "inception_resnet_v2 (Model)  (None, 5, 5, 1536)        54336736  \n",
            "_________________________________________________________________\n",
            "global_average_pooling2d_2 ( (None, 1536)              0         \n",
            "_________________________________________________________________\n",
            "flatten_2 (Flatten)          (None, 1536)              0         \n",
            "_________________________________________________________________\n",
            "dense_6 (Dense)              (None, 128)               196736    \n",
            "_________________________________________________________________\n",
            "dense_7 (Dense)              (None, 64)                8256      \n",
            "_________________________________________________________________\n",
            "dropout_2 (Dropout)          (None, 64)                0         \n",
            "_________________________________________________________________\n",
            "dense_8 (Dense)              (None, 5)                 325       \n",
            "=================================================================\n",
            "Total params: 54,542,053\n",
            "Trainable params: 54,481,509\n",
            "Non-trainable params: 60,544\n",
            "_________________________________________________________________\n"
          ],
          "name": "stdout"
        }
      ]
    },
    {
      "cell_type": "code",
      "metadata": {
        "id": "2k_LipzjJqpd",
        "colab_type": "code",
        "outputId": "1fabdb12-394b-4af1-8b27-83795773e5b6",
        "colab": {
          "base_uri": "https://localhost:8080/",
          "height": 323
        }
      },
      "source": [
        "MODELS[1].summary()"
      ],
      "execution_count": 0,
      "outputs": [
        {
          "output_type": "stream",
          "text": [
            "Model: \"sequential_3\"\n",
            "_________________________________________________________________\n",
            "Layer (type)                 Output Shape              Param #   \n",
            "=================================================================\n",
            "densenet201 (Model)          (None, 8, 8, 1920)        18321984  \n",
            "_________________________________________________________________\n",
            "global_average_pooling2d_3 ( (None, 1920)              0         \n",
            "_________________________________________________________________\n",
            "flatten_3 (Flatten)          (None, 1920)              0         \n",
            "_________________________________________________________________\n",
            "dropout_3 (Dropout)          (None, 1920)              0         \n",
            "_________________________________________________________________\n",
            "dense_3 (Dense)              (None, 5)                 9605      \n",
            "=================================================================\n",
            "Total params: 18,331,589\n",
            "Trainable params: 17,724,677\n",
            "Non-trainable params: 606,912\n",
            "_________________________________________________________________\n"
          ],
          "name": "stdout"
        }
      ]
    },
    {
      "cell_type": "code",
      "metadata": {
        "id": "7MrcK-7lJta3",
        "colab_type": "code",
        "outputId": "72249bf6-87bc-46df-dedc-e856dfe386f7",
        "colab": {
          "base_uri": "https://localhost:8080/",
          "height": 357
        }
      },
      "source": [
        "MODELS[2].summary()"
      ],
      "execution_count": 0,
      "outputs": [
        {
          "output_type": "stream",
          "text": [
            "Model: \"sequential_3\"\n",
            "_________________________________________________________________\n",
            "Layer (type)                 Output Shape              Param #   \n",
            "=================================================================\n",
            "xception (Model)             (None, 8, 8, 2048)        20861480  \n",
            "_________________________________________________________________\n",
            "global_average_pooling2d_3 ( (None, 2048)              0         \n",
            "_________________________________________________________________\n",
            "flatten_3 (Flatten)          (None, 2048)              0         \n",
            "_________________________________________________________________\n",
            "dense_6 (Dense)              (None, 64)                131136    \n",
            "_________________________________________________________________\n",
            "dropout_3 (Dropout)          (None, 64)                0         \n",
            "_________________________________________________________________\n",
            "dense_7 (Dense)              (None, 5)                 325       \n",
            "=================================================================\n",
            "Total params: 20,992,941\n",
            "Trainable params: 10,147,797\n",
            "Non-trainable params: 10,845,144\n",
            "_________________________________________________________________\n"
          ],
          "name": "stdout"
        }
      ]
    },
    {
      "cell_type": "code",
      "metadata": {
        "id": "b3wC2xoblAW9",
        "colab_type": "code",
        "outputId": "fbaa5545-8901-43ed-fca8-187b9004729d",
        "colab": {
          "base_uri": "https://localhost:8080/",
          "height": 68
        }
      },
      "source": [
        "# Predict labels with models\n",
        "labels = [] # this will contain predictions of each model individually.\n",
        "for model in MODELS:\n",
        "    predictionsWithProb = model.predict(test_generator, test_generator.samples // test_generator.batch_size+1, verbose=1)\n",
        "    predictedLabels = np.argmax(predictionsWithProb, axis=-1)\n",
        "\n",
        "    tuples = []\n",
        "    for p in range(0, len(predictedLabels)):\n",
        "      prediction = predictedLabels[p]\n",
        "      prob = predictionsWithProb[p][prediction] \n",
        "      tuples.append((prediction, prob))\n",
        "\n",
        "    labels.append(tuples)"
      ],
      "execution_count": 0,
      "outputs": [
        {
          "output_type": "stream",
          "text": [
            "100/100 [==============================] - 1826s 18s/step\n",
            "100/100 [==============================] - 57s 575ms/step\n",
            "100/100 [==============================] - 57s 572ms/step\n"
          ],
          "name": "stdout"
        }
      ]
    },
    {
      "cell_type": "code",
      "metadata": {
        "id": "VN_OPPOElcnz",
        "colab_type": "code",
        "colab": {}
      },
      "source": [
        "# Ensemble with soft voting\n",
        "EnsembledPredictions = []\n",
        "for i in range(0, test_generator.n):\n",
        "  pred_1 = labels[0][i][0] # prediction\n",
        "  prob_1 = labels[0][i][1] # probability\n",
        "\n",
        "  pred_2 = labels[1][i][0]\n",
        "  prob_2 = labels[1][i][1]\n",
        "\n",
        "  pred_3 = labels[2][i][0]\n",
        "  prob_3 = labels[2][i][1]\n",
        "\n",
        "  ensembledPrediction = -1\n",
        "\n",
        "  if (pred_1 == pred_2 == pred_3):\n",
        "    ensembledPrediction = pred_1\n",
        "\n",
        "  elif (pred_1 == pred_2):\n",
        "    avg_prob = (prob_1 + prob_2) / 2\n",
        "\n",
        "    if prob_3 > avg_prob:\n",
        "      ensembledPrediction = pred_3\n",
        "    else:\n",
        "      ensembledPrediction = pred_1\n",
        "\n",
        "  elif (pred_1 == pred_3):\n",
        "    avg_prob = (prob_1 + prob_3) / 2\n",
        "\n",
        "    if prob_2 > avg_prob:\n",
        "      ensembledPrediction = pred_2\n",
        "    else:\n",
        "      ensembledPrediction = pred_1\n",
        "  \n",
        "  elif (pred_2 == pred_3):\n",
        "    avg_prob = (prob_2 + prob_3) / 2\n",
        "\n",
        "    if prob_1 > avg_prob:\n",
        "      ensembledPrediction = pred_1\n",
        "    else:\n",
        "      ensembledPrediction = pred_2\n",
        "\n",
        "  else: # all different predictions\n",
        "    dummy_prob_list = [prob_1, prob_2, prob_3]\n",
        "    dummy_pred_list = [pred_1, pred_2, pred_3]\n",
        "\n",
        "    maxProb = max(dummy_prob_list)\n",
        "    index = dummy_prob_list.index(maxProb)\n",
        "    ensembledPrediction = dummy_pred_list[index]\n",
        "\n",
        "  EnsembledPredictions.append(ensembledPrediction)"
      ],
      "execution_count": 0,
      "outputs": []
    },
    {
      "cell_type": "code",
      "metadata": {
        "id": "Sqtsm6cuvZj_",
        "colab_type": "code",
        "colab": {}
      },
      "source": [
        "# using naive method to \n",
        "# perform conversion \n",
        "for i in range(0, len(EnsembledPredictions)): \n",
        "    EnsembledPredictions[i] = int(EnsembledPredictions[i]) + 1 "
      ],
      "execution_count": 0,
      "outputs": []
    },
    {
      "cell_type": "code",
      "metadata": {
        "id": "BjVaZ8HKvH9j",
        "colab_type": "code",
        "colab": {}
      },
      "source": [
        "res = pd.DataFrame({'Id': filenames,'Category': EnsembledPredictions})\n",
        "res.set_index(\"Id\", inplace=True)\n",
        "res.to_csv(\"/content/drive/My Drive/CS412/Pred2.csv\")"
      ],
      "execution_count": 0,
      "outputs": []
    },
    {
      "cell_type": "markdown",
      "metadata": {
        "id": "604F1zPLGxWb",
        "colab_type": "text"
      },
      "source": [
        "Result of soft voting on validation data"
      ]
    },
    {
      "cell_type": "code",
      "metadata": {
        "id": "HRRTqTte7QX-",
        "colab_type": "code",
        "outputId": "604f17da-8796-4ba7-a4b3-b6cd8e2d6d98",
        "colab": {
          "base_uri": "https://localhost:8080/",
          "height": 340
        }
      },
      "source": [
        "from sklearn.metrics import classification_report, confusion_matrix\n",
        "print('Confusion Matrix')\n",
        "print(confusion_matrix(classification_generator.classes, EnsembledPredictions))\n",
        "print('Classification Report')\n",
        "target_names = ['1', '2', '3', '4', '5']\n",
        "print(classification_report(classification_generator.classes, EnsembledPredictions, target_names=target_names))"
      ],
      "execution_count": 0,
      "outputs": [
        {
          "output_type": "stream",
          "text": [
            "Confusion Matrix\n",
            "[[338  39  19   0  31]\n",
            " [ 24 360  14   1  28]\n",
            " [  0   5 308   0   6]\n",
            " [  1   0  18  61   6]\n",
            " [  4   6   9   0 239]]\n",
            "Classification Report\n",
            "              precision    recall  f1-score   support\n",
            "\n",
            "           1       0.92      0.79      0.85       427\n",
            "           2       0.88      0.84      0.86       427\n",
            "           3       0.84      0.97      0.90       319\n",
            "           4       0.98      0.71      0.82        86\n",
            "           5       0.77      0.93      0.84       258\n",
            "\n",
            "    accuracy                           0.86      1517\n",
            "   macro avg       0.88      0.85      0.85      1517\n",
            "weighted avg       0.87      0.86      0.86      1517\n",
            "\n"
          ],
          "name": "stdout"
        }
      ]
    }
  ]
}